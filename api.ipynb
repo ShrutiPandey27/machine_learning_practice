{
  "nbformat": 4,
  "nbformat_minor": 0,
  "metadata": {
    "colab": {
      "name": "api.ipynb",
      "provenance": [],
      "collapsed_sections": [],
      "authorship_tag": "ABX9TyNJYlX/eyY8iOa/pmVghoT4",
      "include_colab_link": true
    },
    "kernelspec": {
      "name": "python3",
      "display_name": "Python 3"
    },
    "language_info": {
      "name": "python"
    }
  },
  "cells": [
    {
      "cell_type": "markdown",
      "metadata": {
        "id": "view-in-github",
        "colab_type": "text"
      },
      "source": [
        "<a href=\"https://colab.research.google.com/github/ShrutiPandey27/machine_learning_practice/blob/main/api.ipynb\" target=\"_parent\"><img src=\"https://colab.research.google.com/assets/colab-badge.svg\" alt=\"Open In Colab\"/></a>"
      ]
    },
    {
      "cell_type": "markdown",
      "metadata": {
        "id": "-UlCPDoWAxkS"
      },
      "source": [
        "#API\n",
        "\n",
        "why we need api\n",
        "1.we need to access only chunk of dataset\n",
        "2.data is dynamic changing frequently\n",
        "\n",
        "\n",
        "\n",
        "user-----------------request----------->kitchen\n",
        "\n",
        "kitchen-------------->response------------>user\n",
        "\n",
        "request by api\n",
        "\n",
        "response by api\n",
        "\n",
        "we can access data only from those website which have allowed or given access to use it via api\n",
        "\n",
        "eg:facebook,weather api,youtube api,twitter api,google maps api,covid vaccine api.\n",
        "\n"
      ]
    },
    {
      "cell_type": "markdown",
      "metadata": {
        "id": "mmCpZSuBC_bF"
      },
      "source": [
        "#HTTP\n",
        "\n",
        "url is reference to a specific web page\n",
        "\n",
        "url has 2 parts:\n",
        "1.protocol identifier:http or https\n",
        "\n",
        "2.host name:google.com,youtube.com,amazon.in\n",
        "\n",
        "protocol are nothing but a set of rules which defines how to format and transmit the request to server and how to receive response from server.\n",
        "\n",
        "methods of http:get,post,put,delete,patch\n",
        "\n",
        "get is similar to read method\n",
        "post is similar to write method\n",
        "\n",
        "#http libraries:\n",
        "1.httplib\n",
        "2.urllib\n",
        "3.requests"
      ]
    },
    {
      "cell_type": "markdown",
      "metadata": {
        "id": "rznMKqFVG_cu"
      },
      "source": [
        "#response object attributes\n",
        "\n",
        "1.status code\n",
        "\n",
        " 2xx(eg:200,201,202)->successful\n",
        " 4xx(eg:400,401,403,404)->unsuccessful\n",
        "\n",
        "2.ecoding\n",
        "3.url\n",
        "4.text\n",
        "5.headers"
      ]
    },
    {
      "cell_type": "code",
      "metadata": {
        "colab": {
          "base_uri": "https://localhost:8080/"
        },
        "id": "KL6vQu7IAvT0",
        "outputId": "d392cf2e-4227-4a86-8cbb-a8d4857dda30"
      },
      "source": [
        "import requests\n",
        "response=requests.get('http://maps.google.com/maps?z=12&t=m&q=loc:38.9419+-78.3020')\n",
        "print(response.status_code)\n"
      ],
      "execution_count": null,
      "outputs": [
        {
          "output_type": "stream",
          "text": [
            "200\n"
          ],
          "name": "stdout"
        }
      ]
    },
    {
      "cell_type": "code",
      "metadata": {
        "colab": {
          "base_uri": "https://localhost:8080/"
        },
        "id": "eED1XfAWIt-A",
        "outputId": "a143436a-3c1b-435b-8380-00e36046fba5"
      },
      "source": [
        "import requests\n",
        "response=requests.get('http://maps.google.com/maps?z=12&t=m&q=loc:38.9419+-78.3020')\n",
        "print(response.status_code)\n",
        "print(response.encoding)\n",
        "print(response.text)"
      ],
      "execution_count": null,
      "outputs": [
        {
          "output_type": "stream",
          "text": [
            "200\n",
            "UTF-8\n",
            "<!DOCTYPE html><html itemscope=\"\" itemtype=\"http://schema.org/Place\" lang=\"en\"> <head> <link href=\"/maps/preview/opensearch.xml?hl=en\" title=\"Google Maps\" rel=\"search\" type=\"application/opensearchdescription+xml\"> <title>  Google Maps  </title> <meta content=\" Find local businesses, view maps and get driving directions in Google Maps. \" name=\"Description\">  <meta content=\"initial-scale=1.0, maximum-scale=1.0, minimum-scale=1.0, user-scalable=no\" name=\"viewport\"> <meta content=\"chrome=1\" http-equiv=\"X-UA-Compatible\"> <meta content=\"notranslate\" name=\"google\"> <meta content=\"origin\" name=\"referrer\">   <meta content='38°56&#39;30.8\"N 78°18&#39;07.2\"W' itemprop=\"name\"> <meta content='38°56&#39;30.8\"N 78°18&#39;07.2\"W' property=\"og:title\"> <meta content=\"https://maps.google.com/maps/api/staticmap?center=38.9419%2C-78.302&amp;zoom=15&amp;size=200x200&amp;markers=38.9419%2C-78.302&amp;sensor=false&amp;client=google-maps-frontend&amp;signature=lVRb2T2u716SXehYYyQ91rsHE20\" itemprop=\"image\"> <meta content=\"https://maps.google.com/maps/api/staticmap?center=38.9419%2C-78.302&amp;zoom=15&amp;size=200x200&amp;markers=38.9419%2C-78.302&amp;sensor=false&amp;client=google-maps-frontend&amp;signature=lVRb2T2u716SXehYYyQ91rsHE20\" property=\"og:image\"> <meta content=\"256\" property=\"og:image:width\"> <meta content=\"256\" property=\"og:image:height\">  <meta content='38°56&#39;30.8\"N 78°18&#39;07.2\"W' property=\"og:site_name\"> <meta content=\"summary\" name=\"twitter:card\">      <script nonce=\"eeJ/nsX8W3+GJNDYf1hOvA==\">(function(){(function(){function c(d){this.t={};this.tick=function(g,e,f){e=void 0!=f?f:(new Date).getTime();this.t[g]=e};this.getStartTickTime=function(){return this.t.start};this.tick(\"start\",null,d)}var b;if(window.performance)var a=(b=window.performance.timing)&&b.responseStart;var h=0<a?new c(a):new c;window.tactilecsi={Timer:c,load:h};b&&(b=b.navigationStart,0<b&&a>=b&&(window.tactilecsi.srt=a-b));try{a=null,window.chrome&&window.chrome.csi&&(a=Math.floor(window.chrome.csi().pageT)),null==a&&window.gtbExternal&&\n",
            "(a=window.gtbExternal.pageT()),null==a&&window.external&&(a=window.external.pageT),a&&(window.tactilecsi.pt=a)}catch(d){}})();}).call(this);</script> <script nonce=\"eeJ/nsX8W3+GJNDYf1hOvA==\">function tick(t){if (window.tactilecsi){window.tactilecsi.load.tick(t);}\n",
            "if (window['wtf']&& window['wtf']['trace']&&\n",
            "window['wtf']['trace']['timeStamp']){window['wtf']['trace']['timeStamp']('application.' + t);}\n",
            "}\n",
            "</script> <script nonce=\"eeJ/nsX8W3+GJNDYf1hOvA==\">\n",
            "tick('start');tick('p0');</script> <script nonce=\"eeJ/nsX8W3+GJNDYf1hOvA==\">(function(){\n",
            "'use strict';var k=\"function\"==typeof Object.create?Object.create:function(a){var b=function(){};b.prototype=a;return new b},l;if(\"function\"==typeof Object.setPrototypeOf)l=Object.setPrototypeOf;else{var m;a:{var n={a:!0},p={};try{p.__proto__=n;m=p.a;break a}catch(a){}m=!1}l=m?function(a,b){a.__proto__=b;if(a.__proto__!==b)throw new TypeError(a+\" is not extensible\");return a}:null}var q=l,r=this||self,t=function(){},u=function(a){var b=typeof a;return\"object\"==b&&null!=a||\"function\"==b},v=function(a,b){a=a.split(\".\");var c=r;a[0]in c||\"undefined\"==typeof c.execScript||c.execScript(\"var \"+a[0]);for(var d;a.length&&(d=a.shift());)a.length||void 0===b?c[d]&&c[d]!==Object.prototype[d]?c=c[d]:c=c[d]={}:c[d]=b},w=function(a,b){function c(){}\n",
            "c.prototype=b.prototype;a.l=b.prototype;a.prototype=new c;a.prototype.constructor=a;a.s=function(d,e,f){for(var g=Array(arguments.length-2),h=2;h<arguments.length;h++)g[h-2]=arguments[h];return b.prototype[e].apply(d,g)}};var x=Array.prototype.indexOf?function(a,b){return Array.prototype.indexOf.call(a,b,void 0)}:function(a,b){if(\"string\"===typeof a)return\"string\"!==typeof b||1!=b.length?-1:a.indexOf(b,0);for(var c=0;c<a.length;c++)if(c in a&&a[c]===b)return c;return-1};var y;a:{var z=r.navigator;if(z){var A=z.userAgent;if(A){y=A;break a}}y=\"\"};function B(a,b,c){for(var d in a)b.call(c,a[d],d,a)}\n",
            ";var C=function(a){C[\" \"](a);return a};C[\" \"]=t;var aa=-1!=y.indexOf(\"Gecko\")&&!(-1!=y.toLowerCase().indexOf(\"webkit\")&&-1==y.indexOf(\"Edge\"))&&!(-1!=y.indexOf(\"Trident\")||-1!=y.indexOf(\"MSIE\"))&&-1==y.indexOf(\"Edge\");var D=function(){this.h=this.h;this.j=this.j};D.prototype.h=!1;D.prototype.g=function(){if(this.j)for(;this.j.length;)this.j.shift()()};var ba=function(){if(!r.addEventListener||!Object.defineProperty)return!1;var a=!1,b=Object.defineProperty({},\"passive\",{get:function(){a=!0}});try{r.addEventListener(\"test\",t,b),r.removeEventListener(\"test\",t,b)}catch(c){}return a}();var E=function(a,b){this.type=a;this.currentTarget=this.target=b};E.prototype.g=function(){};var F=function(a,b){E.call(this,a?a.type:\"\");this.relatedTarget=this.currentTarget=this.target=null;this.button=this.screenY=this.screenX=this.clientY=this.clientX=0;this.key=\"\";this.metaKey=this.shiftKey=this.altKey=this.ctrlKey=!1;this.state=null;this.pointerId=0;this.pointerType=\"\";this.h=null;if(a){var c=this.type=a.type,d=a.changedTouches&&a.changedTouches.length?a.changedTouches[0]:null;this.target=a.target||a.srcElement;this.currentTarget=b;if(b=a.relatedTarget){if(aa){a:{try{C(b.nodeName);var e=!0;break a}catch(f){}e=!1}e||(b=null)}}else\"mouseover\"==c?b=a.fromElement:\"mouseout\"==c&&(b=a.toElement);this.relatedTarget=b;d?(this.clientX=void 0!==d.clientX?d.clientX:d.pageX,this.clientY=void 0!==d.clientY?d.clientY:d.pageY,this.screenX=d.screenX||0,this.screenY=d.screenY||0):(this.clientX=void 0!==a.clientX?a.clientX:a.pageX,this.clientY=void 0!==a.clientY?a.clientY:a.pageY,this.screenX=a.screenX||0,this.screenY=a.screenY||0);this.button=a.button;this.key=a.key||\"\";this.ctrlKey=a.ctrlKey;this.altKey=a.altKey;this.shiftKey=a.shiftKey;this.metaKey=a.metaKey;this.pointerId=a.pointerId||0;this.pointerType=\"string\"===typeof a.pointerType?a.pointerType:ca[a.pointerType]||\"\";this.state=a.state;this.h=a;a.defaultPrevented&&F.l.g.call(this)}};w(F,E);var ca={2:\"touch\",3:\"pen\",4:\"mouse\"};F.prototype.g=function(){F.l.g.call(this);var a=this.h;a.preventDefault?a.preventDefault():a.returnValue=!1};var G=\"closure_listenable_\"+(1E6*Math.random()|0);var da=0;var ea=function(a,b,c,d,e){this.listener=a;this.g=null;this.src=b;this.type=c;this.capture=!!d;this.i=e;this.key=++da;this.h=this.m=!1},H=function(a){a.h=!0;a.listener=null;a.g=null;a.src=null;a.i=null};var I=function(a){this.src=a;this.g={};this.h=0};I.prototype.add=function(a,b,c,d,e){var f=a.toString();a=this.g[f];a||(a=this.g[f]=[],this.h++);var g;a:{for(g=0;g<a.length;++g){var h=a[g];if(!h.h&&h.listener==b&&h.capture==!!d&&h.i==e)break a}g=-1}-1<g?(b=a[g],c||(b.m=!1)):(b=new ea(b,this.src,f,!!d,e),b.m=c,a.push(b));return b};var J=\"closure_lm_\"+(1E6*Math.random()|0),K={},L=0,N=function(a,b,c,d,e){if(d&&d.once)return M(a,b,c,d,e);if(Array.isArray(b)){for(var f=0;f<b.length;f++)N(a,b[f],c,d,e);return null}c=O(c);return a&&a[G]?a.g(b,c,u(d)?!!d.capture:!!d,e):P(a,b,c,!1,d,e)},P=function(a,b,c,d,e,f){if(!b)throw Error(\"Invalid event type\");var g=u(e)?!!e.capture:!!e,h=Q(a);h||(a[J]=h=new I(a));c=h.add(b,c,d,g,f);if(c.g)return c;d=fa();c.g=d;d.src=a;d.listener=c;if(a.addEventListener)ba||(e=g),void 0===e&&(e=!1),a.addEventListener(b.toString(),d,e);else if(a.attachEvent)a.attachEvent(R(b.toString()),d);else if(a.addListener&&a.removeListener)a.addListener(d);else throw Error(\"addEventListener and attachEvent are unavailable.\");L++;return c},fa=function(){var a=ha,b=function(c){return a.call(b.src,b.listener,c)};return b},M=function(a,b,c,d,e){if(Array.isArray(b)){for(var f=0;f<b.length;f++)M(a,b[f],c,d,e);return null}c=O(c);return a&&a[G]?a.h(b,c,u(d)?!!d.capture:!!d,e):P(a,b,c,!0,d,e)},S=function(a){if(\"number\"!==typeof a&&a&&!a.h){var b=a.src;if(b&&b[G])b.i(a);else{var c=a.type,d=a.g;b.removeEventListener?b.removeEventListener(c,d,a.capture):b.detachEvent?b.detachEvent(R(c),d):b.addListener&&b.removeListener&&b.removeListener(d);L--;if(c=Q(b)){d=a.type;if(d in c.g){var e=c.g[d],f=x(e,a),g;(g=0<=f)&&Array.prototype.splice.call(e,f,1);g&&(H(a),0==c.g[d].length&&(delete c.g[d],c.h--))}0==c.h&&(c.src=null,b[J]=null)}else H(a)}}},R=function(a){return a in K?K[a]:K[a]=\"on\"+a},ha=function(a,b){if(a.h)a=!0;else{b=new F(b,this);var c=a.listener,d=a.i||a.src;a.m&&S(a);a=c.call(d,b)}return a},Q=function(a){a=a[J];return a instanceof I?a:null},T=\"__closure_events_fn_\"+(1E9*Math.random()>>>0),O=function(a){if(\"function\"===typeof a)return a;a[T]||(a[T]=function(b){return a.handleEvent(b)});return a[T]};var U=function(a){D.call(this);this.o=a;this.i={}};w(U,D);var V=[],W=function(a,b,c){Array.isArray(c)||(c&&(V[0]=c.toString()),c=V);for(var d=0;d<c.length;d++){var e=N(b,c[d],a.handleEvent,!1,a.o||a);if(!e)break;a.i[e.key]=e}},ia=function(a){B(a.i,function(b,c){this.i.hasOwnProperty(c)&&S(b)},a);a.i={}};U.prototype.g=function(){U.l.g.call(this);ia(this)};U.prototype.handleEvent=function(){throw Error(\"EventHandler.handleEvent not implemented\");};var X=function(){U.call(this);var a=document;W(this,a,\"click\");W(this,a,\"mousedown\");W(this,a,\"rightclick\");W(this,a,\"contextmenu\");W(this,a,\"keypress\");W(this,a,\"wheel\")};X.prototype=k(U.prototype);X.prototype.constructor=X;if(q)q(X,U);else for(var Y in U)if(\"prototype\"!=Y)if(Object.defineProperties){var Z=Object.getOwnPropertyDescriptor(U,Y);Z&&Object.defineProperty(X,Y,Z)}else X[Y]=U[Y];X.l=U.prototype;X.prototype.handleEvent=function(a){v(\"globals.fua.data\",{type:a.type,target:a.target,currentTarget:a.currentTarget,time:Date.now(),u:!0});this.h||(this.h=!0,this.g())};X.prototype.g=function(){U.prototype.g.call(this);delete r.globals.fua.dispose};v(\"globals.fua.install\",function(){var a=new X;v(\"globals.fua.dispose\",function(){a.h||(a.h=!0,a.g())})});}).call(this);</script> <script nonce=\"eeJ/nsX8W3+GJNDYf1hOvA==\">globals.fua.install();</script> <script nonce=\"eeJ/nsX8W3+GJNDYf1hOvA==\">(function(){\n",
            "'use strict';var n=\"function\"==typeof Object.create?Object.create:function(a){var b=function(){};b.prototype=a;return new b},p;if(\"function\"==typeof Object.setPrototypeOf)p=Object.setPrototypeOf;else{var q;a:{var r={a:!0},u={};try{u.__proto__=r;q=u.a;break a}catch(a){}q=!1}p=q?function(a,b){a.__proto__=b;if(a.__proto__!==b)throw new TypeError(a+\" is not extensible\");return a}:null}var v=p,w=this||self,x=function(a,b,c){a=a.split(\".\");c=c||w;a[0]in c||\"undefined\"==typeof c.execScript||c.execScript(\"var \"+a[0]);for(var d;a.length&&(d=a.shift());)a.length||void 0===b?c[d]&&c[d]!==Object.prototype[d]?c=c[d]:c=c[d]={}:c[d]=b},y=function(a){var b=typeof a;return\"object\"==b&&null!=a||\"function\"==b};var z=function(a,b){return w.setTimeout(function(){try{a()}catch(c){throw c;}},b)};var A=/(?:@|\\()([^:]*(:\\/)?[^:]*(:\\d+\\/)?[^:]*):/,B=function(a,b){var c=0;a.forEach(function(d){c+=d.length});b.forEach(function(d){c+=d.length});return 3*(a.length+b.length)+1.1*c};var C=function(a,b,c,d){this.o=b;this.g=this.m=a;this.s=c||0;this.u=d||2};C.prototype.j=function(){return this.m};var D=function(a,b,c){C.call(this,a,b);this.v=c;this.l=null;this.h=this.i=0};D.prototype=n(C.prototype);D.prototype.constructor=D;if(v)v(D,C);else for(var E in C)if(\"prototype\"!=E)if(Object.defineProperties){var F=Object.getOwnPropertyDescriptor(C,E);F&&Object.defineProperty(D,E,F)}else D[E]=C[E];var G=function(a){var b=Date.now();if(0==a.h)return a.h=b,!0;var c=b>a.h+a.j();c&&(a.h=b,a.g=Math.min(a.o,a.g*a.u),a.m=Math.min(a.o,a.g+(a.s?Math.round(a.s*(Math.random()-.5)*2*a.g):0)));return c};D.prototype.j=function(){var a=C.prototype.j.call(this);this.l&&w.clearTimeout(this.l);this.l=z(this.v,2*a);return a};var H=function(){this.g={}};H.prototype.get=function(a){a=I(a);return this.g[a]};H.prototype.set=function(a,b){a=I(a);this.g[a]=b};var I=function(a){if(\"object\"===typeof a){var b=[],c;for(c in a)a.hasOwnProperty(c)&&b.push(J(a[c].toString()));return b.join(\" \")}return J(a.toString())},J=function(a){for(;\":\"==a.charAt(a.length-1);)a=a.slice(0,a.length-1);a=a.split(\":\");return a[a.length-1].trim()};var L=function(){var a=\"undefined\"===typeof DEV_MODE?!1:DEV_MODE,b=\"undefined\"===typeof LOGGING_ENDPOINT?\"/maps/preview/log204\":LOGGING_ENDPOINT,c=\"undefined\"===typeof JS_VERSION?null:JS_VERSION,d=\"undefined\"===typeof APP_OPTIONS?null:APP_OPTIONS[1],e=\"undefined\"===typeof PRODUCT_ID?81:PRODUCT_ID,g=this;var f=void 0===f?w.location&&w.location.hostname:f;this.u=a;this.j=b;this.B=c;this.A=d;this.v=e;this.o=f;this.i=null;this.m=!1;this.s=this.h=null;this.g=new H;this.l=new H;var k=w.onerror;w.onerror=\n",
            "function(l){for(var h=[],m=0;m<arguments.length;++m)h[m-0]=arguments[m];k&&k.apply(null,h);K(g,h[0],h[1],h[2])}};L.prototype.listen=function(a){this.i=a};L.prototype.log=function(a,b){K(this,a,void 0,void 0,b);return a};var M=function(a,b){var c=a.g.get(b);c||(c=new D(6E4,36E5,function(){var d=a.g,e=I(b);delete d.g[e]}),a.g.set(b,c));c.i++;return c},P=function(a,b,c,d,e,g){var f=N(y(b)?b.message:b,g||1);f.type=\"error\";f.count=e.i;e.i=0;if(y(b)){if(c=b.file||\"\",f.file=\"string\"===typeof c?c.substr(0,400):\"\",f.line=b.line||0,\"string\"===typeof b.stack){b=b.stack.split(\"\\n\");c=0;for(d=b.length;c<d&&40>c;++c)e=b[c].trim(),0<e.length&&f.stack.push(e);f.stackUrls=[];b=f.stack;c=f.stackUrls;d=1700-(3+1.1*f.message.length);e={};for(var k=0,l=0;l<b.length;++l){var h=b[l],m=h.match(A);if(m){m=m[1];if(e[m])var t=e[m];else t=\"..\"+k+\"..\",e[m]=t,c.push(m),k++;b[l]=h.replace(m,t)}}h=e=B(b,c);l=\"\";for(k=null;h>d;){l=\n",
            "b.pop();k=null;h=\"..\"+(c.length-1)+\"..\";if(-1<l.indexOf(h)){m=!1;for(t=b.length-1;0<=t;t--)if(-1<b[t].indexOf(h)){m=!0;break}m||(k=c.pop())}h=B(b,c)}0>=Math.ceil(e-h)?b=0:(d=Math.floor(d-h),3<d&&(l=l.length>d?l.substr(0,d-3)+\"...\":l,b.push(l),d-=l.length,k&&3<d&&c.push(k.length>d?k.substr(0,d-3)+\"...\":k)),b=Math.ceil(e-B(b,c)));f.stackTruncation=b}}else f.file=\"string\"===typeof c?c.substr(0,400):\"\",f.line=d||0;O(a,f,g)&&(f.errorType=9);return f},O=function(a,b,c){var d=b.message,e=navigator.userAgent;if(/HeadlessChrome/.test(e)||/Trident\\/7\\.0/.test(e)&&!/rv:11\\.0/.test(e)||a.o&&!/\\.google\\./.test(a.o)||0<=d.indexOf(\"zCommon\")||0<=d.indexOf(\"887a0005\")||!c&&(\"Script error\"==d||\"Script error.\"==d)||-1!=d.indexOf(\"Not enough storage is available to complete this operation.\")||0<=d.indexOf(\"ArrayBuffer length minus the\")||d.match(/new RegExp.*ludo_cid/)||0<=d.indexOf(\"Cannot read property 'mute' of null\"))return!0;a=b.stack;for(c=0;c<a.length;++c)if(a[c].match(/phantomjs/i))return!0;a=function(g){return!g||\n",
            "0<=g.indexOf(\"/maps\")?!0:!1};if(0<=d.indexOf(\"JSON syntax error\")&&!a(b.file))return!0;d=function(g){return 0==g.indexOf(\"resource://\")||0==g.indexOf(\"chrome-extension://\")||0==g.indexOf(\"https://\")&&8!=g.indexOf(\"www.google\")&&8!=g.indexOf(\"maps.gstatic\")&&8!=g.indexOf(\"www.gstatic\")&&8!=g.indexOf(\"apis.google\")?!1:!0};if(b=b.stackUrls)for(a=0;a<b.length;++a)if(!d(b[a]))return!0;return!1},K=function(a,b,c,d,e){var g=y(b)?b.message:b,f=a.l.get(g);if(f)f&&g.length>f.message.length&&(f.message=g);else if(f=M(a,g),G(f)){var k=P(a,b,c,d,f,e);Q(a,k);a.l.set(g,k);w.setTimeout(function(){a.i&&a.i(k);a.m||R(a,k);var l=a.l,h=I(g);delete l.g[h]},0)}},Q=function(a,b){var c=b.message+\"\\n\";for(var d=0,e=b.stack.length;d<e;++d)c+=b.stack[d]+\"\\n\";d=0;for(e=b.stackUrls.length;d<e;++d)c+=\"..\"+d+\"..=\"+b.stackUrls[d]+\"\\n\";a.h||(a.h=c);a.s=c},R=function(a,b){if(a.j){var c=2;b.count&&1<b.count&&c++;var d=4;b.file&&d++;b.line&&d++;b.stack&&(d+=b.stack.length);0<b.stackTruncation&&d++;b.stackUrls&&(d+=b.stackUrls.length);var e=[];e.push(\"!8m\");e.push(\"\"+(c+d));e.push(\"!2e6\");b.count&&1<b.count&&(e.push(\"!7i\"),e.push(b.count));e.push(\"!9m\");e.push(\"\"+d);e.push(\"!1s\");e.push(S(b.message));b.file&&(e.push(\"!2s\"),e.push(S(b.file)));b.line&&(e.push(\"!3i\"),e.push(b.line));if(b.stack)for(c=0,d=b.stack.length;c<d;++c)e.push(\"!4s\"),e.push(S(b.stack[c]));e.push(\"!6s\");e.push(S(a.B));e.push(\"!8e\"+b.errorType);0<b.stackTruncation&&(e.push(\"!9i\"),e.push(b.stackTruncation));if(b.stackUrls)for(c=0,d=b.stackUrls.length;c<d;c++)e.push(\"!10s\"),e.push(S(b.stackUrls[c]));e.push(\"!11s\");e.push(S(a.A));e.push(\"!11m1\");e.push(\"!7e\");e.push(String(a.v||0));var g=a.j+(0<=a.j.indexOf(\"?\")?\"&\":\"?\")+\"pb=\"+e.join(\"\");if(a.u)(a=w.console)&&a.log.call(a,g);else{var f=null;w.XMLHttpRequest&&(f=new w.XMLHttpRequest);f&&w.setTimeout(function(){f.open(\"GET\",g,!0);f.send(null)},0)}}},S=function(a){a=\n",
            "a||\"\";0<a.indexOf(\"*\")&&(a=a.replace(T,\"*2A\"));0<a.indexOf(\"!\")&&(a=a.replace(U,\"*21\"));return encodeURIComponent(a)},N=function(a,b){var c={};c.message=a?a.substr(0,400):\"\";c.file=\"\";c.line=0;c.stack=[];c.stackUrls=[];c.errorType=void 0===b?1:b;return c},U=/(!)/g,T=/(\\*)/g;if(\"undefined\"==typeof globals||void 0===globals.ErrorHandler){var V=new L,W=function(a,b){return V.log(a,b)};w._DumpException=W;x(\"globals.ErrorHandler.listen\",function(a){return V.listen(a)},void 0);x(\"_._DumpException\",W,w);x(\"globals.ErrorHandler.dr\",function(){V.m=!0},void 0);x(\"globals.ErrorHandler.log\",W,void 0);x(\"globals.ErrorHandler.ne\",N,void 0);x(\"globals.ErrorHandler.fe\",function(){return V.h},void 0);x(\"globals.ErrorHandler.mre\",function(){return V.s},void 0)};}).call(this);</script> <script nonce=\"eeJ/nsX8W3+GJNDYf1hOvA==\">window._ = window._ || {};window._._DumpException = function(e){throw globals.ErrorHandler.log(e);};window._DumpException = function(e){throw globals.ErrorHandler.log(e);};</script>  <link href=\"//www.google.com/images/branding/product/ico/maps15_bnuw3a_32dp.ico\" rel=\"shortcut icon\"> <script nonce=\"eeJ/nsX8W3+GJNDYf1hOvA==\">(function(){window.APP_OPTIONS=[null,\"20210616.0\",null,[\"/search?tbm\\u003dmap\\u0026authuser\\u003d0\\u0026hl\\u003den\\u0026gl\\u003dus\",\"/s?tbm\\u003dmap\\u0026gs_ri\\u003dmaps\\u0026suggest\\u003dp\\u0026authuser\\u003d0\\u0026hl\\u003den\\u0026gl\\u003dus\",\"/maps/preview/directions?authuser\\u003d0\\u0026hl\\u003den\\u0026gl\\u003dus\",null,\"/maps/preview/entity?authuser\\u003d0\\u0026hl\\u003den\\u0026gl\\u003dus\",\"/maps/rpc/vp?authuser\\u003d0\\u0026hl\\u003den\\u0026gl\\u003dus\",[[\"/maps/vt\"]\n",
            ",560,[\"/maps/vt/stream\"]\n",
            ",null,0,null,904,\"/maps/vt\",null,null,\"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\\u003d\"]\n",
            ",[\"//khms0.google.com/kh/v\\u003d904\",\"//khms1.google.com/kh/v\\u003d904\",\"//khms2.google.com/kh/v\\u003d904\",\"//khms3.google.com/kh/v\\u003d904\"]\n",
            ",\"/maps/preview/log204?authuser\\u003d0\\u0026hl\\u003den\\u0026gl\\u003dus\",[\"//geo0.ggpht.com/cbk?cb_client\\u003dmaps_sv.tactile\\u0026authuser\\u003d0\\u0026hl\\u003den\\u0026gl\\u003dus\",\"//geo1.ggpht.com/cbk?cb_client\\u003dmaps_sv.tactile\\u0026authuser\\u003d0\\u0026hl\\u003den\\u0026gl\\u003dus\",\"//geo2.ggpht.com/cbk?cb_client\\u003dmaps_sv.tactile\\u0026authuser\\u003d0\\u0026hl\\u003den\\u0026gl\\u003dus\",\"//geo3.ggpht.com/cbk?cb_client\\u003dmaps_sv.tactile\\u0026authuser\\u003d0\\u0026hl\\u003den\\u0026gl\\u003dus\"]\n",
            ",null,null,null,\"//kh.google.com/rt/earth\",null,null,\"/maps/preview/placeactions/starring?authuser\\u003d0\\u0026hl\\u003den\\u0026gl\\u003dus\",\"/maps/reportmapissue?authuser\\u003d0\\u0026hl\\u003den\\u0026gl\\u003dus\",null,\"/maps/preview/reveal?authuser\\u003d0\\u0026hl\\u003den\\u0026gl\\u003dus\",null,\"/maps/mm?authuser\\u003d0\\u0026hl\\u003den\\u0026gl\\u003dus\",\"/maps/preview/photo?authuser\\u003d0\\u0026hl\\u003den\\u0026gl\\u003dus\",null,\"/maps/preview/gme/list?authuser\\u003d0\\u0026hl\\u003den\\u0026gl\\u003dus\",null,\"/maps/preview/placeupdate?authuser\\u003d0\\u0026hl\\u003den\\u0026gl\\u003dus\",\"/maps/preview/gme/details?authuser\\u003d0\\u0026hl\\u003den\\u0026gl\\u003dus\",\"/maps/preview/placeactions/writeaction?authuser\\u003d0\\u0026hl\\u003den\\u0026gl\\u003dus\",\"/maps/rpc/shorturl?authuser\\u003d0\\u0026hl\\u003den\\u0026gl\\u003dus\",\"/gen_204\",null,\"/maps/sendtocar/devices?authuser\\u003d0\\u0026hl\\u003den\\u0026gl\\u003dus\",\"/maps/sendtocar/send?authuser\\u003d0\\u0026hl\\u003den\\u0026gl\\u003dus\",\"/maps/preview/assist?authuser\\u003d0\\u0026hl\\u003den\\u0026gl\\u003dus\",\"/maps/preview/reportdataproblem?authuser\\u003d0\\u0026hl\\u003den\\u0026gl\\u003dus\",null,\"/maps/rpc/userprefswrite?authuser\\u003d0\\u0026hl\\u003den\\u0026gl\\u003dus\",\"/maps/rpc/userprefsread?authuser\\u003d0\\u0026hl\\u003den\\u0026gl\\u003dus\",\"/maps/preview/categories?authuser\\u003d0\\u0026hl\\u003den\\u0026gl\\u003dus\",null,\"/maps/preview/pegman?authuser\\u003d0\\u0026hl\\u003den\\u0026gl\\u003dus\",\"/locationhistory/preview/mas?authuser\\u003d0\\u0026hl\\u003den\\u0026gl\\u003dus\",\"/maps/photometa/v1?authuser\\u003d0\\u0026hl\\u003den\\u0026gl\\u003dus\",\"/maps/preview/sendtodevice?authuser\\u003d0\\u0026hl\\u003den\\u0026gl\\u003dus\",\"//maps.gstatic.com\",\"//khms.google.com/dm/\",[\"https://lh3.ggpht.com/\",\"https://lh4.ggpht.com/\",\"https://lh5.ggpht.com/\",\"https://lh6.ggpht.com/\"]\n",
            ",\"/maps/photometa/ac/\",\"/maps/photometa/si/v1?authuser\\u003d0\\u0026hl\\u003den\\u0026gl\\u003dus\",\"/maps/timeline/_rpc/pe?authuser\\u003d0\\u0026hl\\u003den\\u0026gl\\u003dus\",\"/maps/timeline/_rpc/pd?authuser\\u003d0\\u0026hl\\u003den\\u0026gl\\u003dus\",\"/maps/timeline/_rpc/pc?authuser\\u003d0\\u0026hl\\u003den\\u0026gl\\u003dus\",\"/maps/preview/directionsassist?authuser\\u003d0\\u0026hl\\u003den\\u0026gl\\u003dus\",\"/maps/timeline/_rpc/phe?authuser\\u003d0\\u0026hl\\u003den\\u0026gl\\u003dus\",\"/maps/preview/notifications/reg?authuser\\u003d0\\u0026hl\\u003den\\u0026gl\\u003dus\",\"/maps/preview/notifications/unreg?authuser\\u003d0\\u0026hl\\u003den\\u0026gl\\u003dus\",\"/maps/preview/notifications/fetch?authuser\\u003d0\\u0026hl\\u003den\\u0026gl\\u003dus\",\"/maps/preview/notifications/mark?authuser\\u003d0\\u0026hl\\u003den\\u0026gl\\u003dus\",null,\"/maps/photometa/acz/\",\"/maps/preview/knowledge?authuser\\u003d0\\u0026hl\\u003den\\u0026gl\\u003dus\",\"/maps/preview/pi?authuser\\u003d0\\u0026hl\\u003den\\u0026gl\\u003dus\",\"/maps/preview/editsformoderation?authuser\\u003d0\\u0026hl\\u003den\\u0026gl\\u003dus\",\"/maps/preview/vope?authuser\\u003d0\\u0026hl\\u003den\\u0026gl\\u003dus\",\"/maps/timeline/_rpc/placelist/create?authuser\\u003d0\\u0026hl\\u003den\\u0026gl\\u003dus\",\"/maps/timeline/_rpc/placelist/additem?authuser\\u003d0\\u0026hl\\u003den\\u0026gl\\u003dus\",\"/maps/timeline/_rpc/placelist/delete?authuser\\u003d0\\u0026hl\\u003den\\u0026gl\\u003dus\",\"/maps/timeline/_rpc/placelist/edit?authuser\\u003d0\\u0026hl\\u003den\\u0026gl\\u003dus\",\"/maps/timeline/_rpc/placelist/removeitem?authuser\\u003d0\\u0026hl\\u003den\\u0026gl\\u003dus\",\"/maps/preview/passiveassist?authuser\\u003d0\\u0026hl\\u003den\\u0026gl\\u003dus\",\"/maps/rpc/locationsharing/read?authuser\\u003d0\\u0026hl\\u003den\\u0026gl\\u003dus\",\"/maps/timeline/_rpc/placelist/follow?authuser\\u003d0\\u0026hl\\u003den\\u0026gl\\u003dus\",\"/maps/timeline/_rpc/placelist/share?authuser\\u003d0\\u0026hl\\u003den\\u0026gl\\u003dus\",\"/maps/preview/notifications/prefs?authuser\\u003d0\\u0026hl\\u003den\\u0026gl\\u003dus\",\"/maps/timeline/_rpc/placelist/get?authuser\\u003d0\\u0026hl\\u003den\\u0026gl\\u003dus\",\"/maps/preview/areatraffic?authuser\\u003d0\\u0026hl\\u003den\\u0026gl\\u003dus\",\"/maps/preview/localposts?authuser\\u003d0\\u0026hl\\u003den\\u0026gl\\u003dus\",\"/maps/timeline/_rpc/placelist/updateitem?authuser\\u003d0\\u0026hl\\u003den\\u0026gl\\u003dus\",\"/maps/preview/lp?authuser\\u003d0\\u0026hl\\u003den\\u0026gl\\u003dus\",\"/maps/preview/blockaddomain?authuser\\u003d0\\u0026hl\\u003den\\u0026gl\\u003dus\",\"/maps/preview/review/deletereview?authuser\\u003d0\\u0026hl\\u003den\\u0026gl\\u003dus\",null,\"/maps/preview/rapfeatures?authuser\\u003d0\\u0026hl\\u003den\\u0026gl\\u003dus\",\"/maps/preview/review/writereview?authuser\\u003d0\\u0026hl\\u003den\\u0026gl\\u003dus\",\"/maps/preview/review/votereview?authuser\\u003d0\\u0026hl\\u003den\\u0026gl\\u003dus\",\"/maps/preview/merchantstatus?authuser\\u003d0\\u0026hl\\u003den\\u0026gl\\u003dus\",\"/maps/preview/review/listentitiesreviews?authuser\\u003d0\\u0026hl\\u003den\\u0026gl\\u003dus\",\"/maps/preview/place?authuser\\u003d0\\u0026hl\\u003den\\u0026gl\\u003dus\",\"/maps/preview/transit/lines?authuser\\u003d0\\u0026hl\\u003den\\u0026gl\\u003dus\",\"//www.gstatic.com\",\"/maps/preview/placeinsights?authuser\\u003d0\\u0026hl\\u003den\\u0026gl\\u003dus\",\"/maps/timeline/_rpc/sync?authuser\\u003d0\\u0026hl\\u003den\\u0026gl\\u003dus\",\"https://streetviewpixels-pa.googleapis.com/?cb_client\\u003dmaps_sv.tactile\"]\n",
            ",null,null,1,null,[\"en\",\"us\",\"United States\"]\n",
            ",null,0,\"jtzNYL2tMfuu5NoPl6GV-AM\",null,null,null,null,null,null,null,null,null,null,null,[null,\"a\",null,null,null,null,null,null,null,null,null,null,null,null,null,null,null,[null,null,null,null,0,0,null,null,1,null,null,1,null,null,null,0,null,null,null,1,1]\n",
            ",null,null,null,[null,null,null,null,null,2,3,2]\n",
            "]\n",
            ",[\"\",null,\"\",null,null,null,null,null,[null,\"\"]\n",
            ",[null,null,null,null,null,\"\"]\n",
            "]\n",
            ",[1,2]\n",
            ",0,[\"//www.google.com/intl/en_us/privacy.html\",\"//www.google.com/intl/en_us/help/terms_maps.html\",null,null,null,\"//support.google.com/maps/?hl\\u003den\\u0026authuser\\u003d0\",\"https://docs.google.com/picker\",null,\"/maps/sendtocar\",\"/adwords/express/how-it-works.html?utm_source\\u003dawx\\u0026utm_medium\\u003det\\u0026utm_campaign\\u003dww-ww-et-awx-symh-maps-nelson\\u0026hl\\u003den\\u0026authuser\\u003d0\\u0026gl\\u003dus\",\"https://accounts.google.com/ServiceLogin?hl\\u003den\",[null,\"Learn more\",null,\"0ahUKEwi9rMiV06PxAhV7F1kFHZdQBT8Q8FkIAigA\",null,\"newmaps_mylocation\"]\n",
            ",\"https://business.google.com/create?service\\u003dplus\\u0026hl\\u003den\\u0026authuser\\u003d0\",\"https://www.google.com/maps/api/js/reviews?key\\u003dAIzaSyAQiTKe3tivKXammrJ6ov6u8E7KwZPNFss\\u0026language\\u003den\",\"//www.google.com/settings/accounthistory/location?hl\\u003den\\u0026authuser\\u003d0\",\"/maps/timeline?hl\\u003den\\u0026authuser\\u003d0\",\"//www.google.com/local/guides/signup?utm_source\\u003dtactile\\u0026utm_medium\\u003do\\u0026utm_campaign\\u003dtactile_contributions_panel\\u0026hl\\u003den\\u0026authuser\\u003d0\",\"https://support.google.com/websearch/answer/6276008\",\"https://business.google.com?skipLandingPage\\u003d1\\u0026hl\\u003den\\u0026authuser\\u003d0\",null,[null,null,null,\"https://business.google.com/mm/create?hl\\u003den\\u0026authuser\\u003d0\"]\n",
            "]\n",
            ",null,null,null,null,null,[3,4]\n",
            ",null,null,[null,null,null,null,null,null,81]\n",
            ",[[]\n",
            "]\n",
            ",0,[\"/maps/_/js/\",\"m\",\"maps.m.en.9vNNLuTnc4A.es5.O\",\"ACT90oHt0bfc3Hj3KjibmjWgezUNtDzO1Q\",\"N4A\",null,\"maps.m.5fb5EnjotU0.L.X.O\",\"/maps/_/js/k\\u003dmaps.m.en.9vNNLuTnc4A.es5.O/ck\\u003dmaps.m.5fb5EnjotU0.L.X.O/m\\u003d%s/am\\u003dN4A/rt\\u003dj/d\\u003d1/rs\\u003dACT90oHt0bfc3Hj3KjibmjWgezUNtDzO1Q\"]\n",
            ",null,null,[10202786,10202788,10203448,10203487,10203489,10203509,10203568,10203575,10203810,10203988,10203999,10204011,10204020,10204034,10204087,10204112,10204121,10204174,10204177,10204182,10204214,10204219,10204226,10204258,10204277,10204297,10204411,10204417,10204423,10204429,10204432,10204434,10204478,10204493,10204494,10204498,1381938,1371340,1381033,1368782,1368785,1385853,46990830,1375050,4536287]\n",
            ",21600,null,null,null,1,null,null,0,null,null,null,[[[1,0,3]\n",
            ",[2,1,2]\n",
            ",[2,0,3]\n",
            ",[3,0,3]\n",
            ",[8,0,3]\n",
            ",[3,1,2]\n",
            ",[10,0,3]\n",
            ",[10,1,2]\n",
            ",[10,0,3]\n",
            ",[10,1,2]\n",
            ",[10,0,4]\n",
            "]\n",
            ",1,null,0]\n",
            ",[]\n",
            ",null,null,1,null,[10203575,1381938,1371340,1381033,1368782,1368785,1385853,46990830,1375050,4536287]\n",
            ",null,null,null,null,null,null,1,1,[null,1,1,1,null,1,1,[1,null,1,1,1,1]\n",
            ",1,null,null,1,null,1,null,null,null,null,null,1,null,null,1,null,1,1]\n",
            ",null,null,null,\"\",null,null,[null,null,null,\"/maps/_/js/k\\u003dmaps.mvw.en.G_bQKdpoPUI.es5.O/m\\u003dwtd,vw/rt\\u003dj/d\\u003d1/rs\\u003dACT90oFexBu48My7j8XkOT4t4sv8yHlIoQ\"]\n",
            ",1,[\"\",0]\n",
            "]\n",
            ";window.APP_INITIALIZATION_STATE=[[[3103.2156271348717,-78.30418868464835,38.94189997956374]\n",
            ",[0,0,0]\n",
            ",[1024,768]\n",
            ",13.1]\n",
            ",[[[\"m\",[17,37020,50115]\n",
            ",13,[560284456,560284456,560284456,560284456,560284456,560274916,560274916,560277556,560284264,560284264,560284264,560284264,560272768,560284456,560284456,560284456,560284456,560284456,560274916,560274916,560272768,560272768,560284264,560284264,560284264,560277052,560284456,560283628,560283628,560283628,560283628,560274916,560272768,560284264,560284264,560284264,560284264,560284264,560277052,560284456,560283628,560283628,560283628,560283628,560274916,560272768,560284264,560284264,560284264,560283904,560284264,560284264,560284456,560283628,560283628,560283628,560283628,560274916,560284264,560284264,560284264,560284264,560283904,560284264,560284264,560284456,560283628,560283628,560283628,560283628,560274916,560284264,560284264,560284264,560284264,560284264,560284264,560284264,560283628,560274916,560274916,560274916,560274916,560274916,560284264,560284264,560284264,560284264,560284264,560284264,560284264,560284264,560284264,560274916,560274916,560274916,560274916,560273092,560273092,560277052,560284264,560284264,560284264,560284264,560284264,560284264,560274916,560274916,560274916,560272000,560273092,560273092,560273092,560277556,560277556,560284264,560284264,560284264,560284264,560274916,560274916,560274916,560272000,560273092,560273092,560273092,560277556,560277556,560283904,560283904]\n",
            "]\n",
            ",[\"m\",[16,18510,25057]\n",
            ",7,[560284456,560284456,560284456,560284264,560284264,560284264,560284264,560284456,560284456,560284456,560284264,560284264,560284264,560284264,560284456,560283628,560284264,560284264,560284264,560284264,560284264,560284456,560284264,560284264,560284264,560284264,560284264,560284264,560284264,560284264,560284264,560284264,560284264,560284264,560284264,560284264,560284264,560274916,560272000,560272000,560284264,560284264]\n",
            "]\n",
            ",[\"m\",[18,74046,100235]\n",
            ",13,[560283628,560283628,560283628,560274916,560274916,560272768,560272768,560272768,560272768,560284264,560284264,560284264,560284264,560283628,560283628,560283628,560274916,560274916,560272768,560272768,560272768,560272768,560284264,560284264,560284264,560284264,560283628,560283628,560283628,560274916,560274916,560272768,560272768,560272768,560272768,560284264,560284264,560284264,560284264,560283628,560283628,560283628,560274916,560274916,560272768,560272768,560272768,560272768,560284264,560284264,560284264,560284264,560283628,560283628,560283628,560274916,560274916,560272768,560272768,560284264,560284264,560284264,560284264,560283904,560283904,560283628,560283628,560283628,560274916,560274916,560272768,560272768,560284264,560284264,560284264,560284264,560283904,560283904,560274916,560274916,560274916,560274916,560274916,560272768,560272768,560284264,560284264,560284264,560284264,560277052,560277052,560274916,560274916,560274916,560274916,560274916,560272768,560272768,560284264,560284264,560284264,560284264,560277052,560277052,560274916,560274916,560274916,560274916,560274916,560272000,560272000,560272000,560272000,560272000,560272000,560277052,560277052,560274916,560274916,560274916,560274916,560274916,560272000,560272000,560272000,560272000,560272000,560272000,560277052,560277052]\n",
            "]\n",
            "]\n",
            "]\n",
            ",[[[2,\"spotlight\",null,null,null,null,null,[[null,null,null,null,null,null,null,null,null,null,null,[null,null,null,null,null,null,null,null,null,null,null,null,null,null,null,null,null,null,null,1]\n",
            "]\n",
            ",[\"0x0:0x0\",\"+38.941900-078.302000\",null,[null,null,38.9419,-78.30199999999999]\n",
            ",0,1]\n",
            ",null,null,null,null,null,null,null,null,null,null,[null,\"a\",null,null,null,null,null,null,null,null,null,null,null,null,null,null,null,[null,null,null,null,0,0,null,null,1,null,null,1,null,null,null,0,null,null,null,1,1]\n",
            ",null,null,null,[null,null,null,null,null,2,3,2]\n",
            "]\n",
            ",1,null,null,null,null,[12,14,29,30,61,70,1371340]\n",
            "]\n",
            "]\n",
            "]\n",
            ",[[52]\n",
            "]\n",
            "]\n",
            ",[null,\")]}'\\n[\\\"38.9419 -78.3020\\\",null,null,[[2.5895662724868715E7,-95.665,37.599999999999994]\\n,[0,0,0]\\n,[1024,768]\\n,13.1]\\n,null,null,20,null,null,1,null,[[null,null,null,null,null,null,null,null,null,null,null,null,null,null,null,null,null,1]\\n,[null,null,null,null,[null,null,null,null,null,2]\\n,null,null,null,null,null,null,null,null,null,null,null,null,null,null,3]\\n,null,null,null,[null,null,null,1,null,null,null,null,null,null,null,null,null,null,null,null,null,null,null,null,null,null,1,null,null,1,1,null,null,null,null,null,null,null,null,null,null,null,null,null,2,null,null,null,1,null,null,null,1,null,null,null,null,null,null,null,null,null,null,null,null,null,[]\\n,null,null,null,1,null,null,null,null,null,[]\\n,150000,1,null,null,null,null,null,null,null,null,null,null,null,null,null,1,null,null,null,null,null,null,null,null,null,null,null,null,null,null,null,null,null,null,null,1,[]\\n,null,null,null,1,null,null,null,null,1]\\n,null,null,null,1,null,null,null,null,null,1]\\n,null,null,null,null,1,null,[null,[360,120,null,8]\\n]\\n,[null,[203,100]\\n,[null,4,null,null,1]\\n,null,null,[[[86,86]\\n,[408,240]\\n]\\n]\\n,[[[1,0,3]\\n,[2,1,2]\\n,[2,0,3]\\n,[3,0,3]\\n,[8,0,3]\\n,[3,1,2]\\n,[10,0,3]\\n,[10,1,2]\\n,[10,0,3]\\n,[10,1,2]\\n,[10,0,4]\\n]\\n,1,null,0]\\n,null,0]\\n,null,[\\\"jtzNYL2tMfuu5NoPl6GV-AM\\\",null,null,null,null,null,81,null,null,null,null,null,null,[null,null,\\\"jtzNYL2tMfuu5NoPl6GV-AM\\\"]\\n,9937]\\n,null,[[null,null,null,null,null,null,null,null,null,null,null,null,[null,1,1,1,null,1,null,1,1,null,null,null,null,null,null,null,null,null,null,1]\\n,null,null,null,null,[null,null,1,1,1,1,null,null,null,null,null,null,1,0]\\n]\\n,1,null,null,[null,1,1,null,1,1,1]\\n,null,null,null,null,[null,null,null,null,null,null,null,3]\\n,null,null,null,[null,null,1]\\n,null,null,1,null,null,[[3,6]\\n]\\n,null,null,null,1,1,1,null,null,1,[null,1]\\n,null,null,null,null,null,1,null,null,null,null,null,null,1,null,null,null,null,null,null,null,null,1,null,[1]\\n,1,[1,null,1]\\n,null,null,null,null,null,null,null,null,[null,null,[[[[224,298]\\n]\\n]\\n]\\n]\\n,null,null,null,null,null,null,null,null,null,null,null,null,null,null,null,null,null,null,null,null,null,null,null,1]\\n,null,[null,[80,92,null,8]\\n]\\n,[null,\\\"38.9419 -78.3020\\\"]\\n,null,null,[[[[0,0]\\n,[458,768]\\n]\\n,[[974,0]\\n,[1024,768]\\n]\\n,[[0,0]\\n,[1024,20]\\n]\\n,[[0,748]\\n,[1024,768]\\n]\\n]\\n]\\n,null,null,null,[null,1,1,1,null,1,1,[1,null,1,1,1,1]\\n,1,null,null,1,null,1,null,null,null,null,null,1,null,null,1,null,1,1]\\n,null,null,[81]\\n,null,null,null,null,1,null,null,null,null,null,null,[null,null,1]\\n,[null,2,[null,null,1]\\n]\\n,null,null,null,null,null,null,null,null,null,null,null,null,null,null,[1]\\n,null,[null,null,null,null,null,null,1,null,null,1]\\n,null,560]\\n\",\")]}'\\n[[\\\"38.9419 -78.3020\\\",[[null,null,null,null,null,null,null,null,\\\"jtzNYIjaM_uu5NoPl6GV-AM\\\",\\\"0ahUKEwiI2cqV06PxAhV7F1kFHZdQBT8QmBkIAigA\\\",null,null,null,null,[\\\"jtzNYIjaM_uu5NoPl6GV-AM\\\",\\\"0ahUKEwiI2cqV06PxAhV7F1kFHZdQBT8Q8BcIAygAMAA\\\",[\\\"38.941900, -78.302000\\\"]\\n,null,null,null,null,null,null,[null,null,38.9419,-78.30199999999999]\\n,null,\\\"38°56'30.8\\\\\\\"N 78°18'07.2\\\\\\\"W\\\",null,null,null,null,null,null,null,null,null,null,null,null,null,[null,null,null,null,null,null,null,null,null,null,null,null,null,null,null,null,null,null,[[[1]\\n,\\\"Favorites\\\",null,1,null,null,null,null,null,null,null,\\\"0ahUKEwiI2cqV06PxAhV7F1kFHZdQBT8QwaQDCAooADAA\\\"]\\n,[[2]\\n,\\\"Want to go\\\",null,1,null,null,null,null,null,null,null,\\\"0ahUKEwiI2cqV06PxAhV7F1kFHZdQBT8QwaQDCAsoATAA\\\"]\\n,[[4]\\n,\\\"Starred places\\\",null,1,null,null,null,null,null,null,null,\\\"0ahUKEwiI2cqV06PxAhV7F1kFHZdQBT8QwaQDCAwoAjAA\\\"]\\n]\\n,null,null,null,\\\"0ahUKEwiI2cqV06PxAhV7F1kFHZdQBT8Q0JcGCAkoBTAA\\\"]\\n,null,null,null,null,null,null,null,null,null,null,null,[[[\\\"AF1QipPzuz62cM6TqGjTw65QEJCOSG9f9CRF5gdtKU9G\\\",10,12,\\\"\\\",null,502.56345,[\\\"https://lh5.googleusercontent.com/p/AF1QipPzuz62cM6TqGjTw65QEJCOSG9f9CRF5gdtKU9G\\\\u003dw360-h175-k-no\\\",\\\"Photos\\\",[4032,1960]\\n,[360,120]\\n]\\n,null,[[3,-78.45245912554925,38.850732508488726]\\n,[0,90]\\n,[4032,1960]\\n,75]\\n,\\\"jtzNYIjaM_uu5NoPl6GV-AM\\\",\\\"0ahUKEwiI2cqV06PxAhV7F1kFHZdQBT8QzCcIDigAMAA\\\",null,null,null,null,null,null,[\\\"District 4, VA\\\"]\\n,[[null,[\\\"//maps.google.com/maps/contrib/114703470371589931096\\\",\\\"ib webn\\\",null,\\\"0ahUKEwiI2cqV06PxAhV7F1kFHZdQBT8QyycIECgAMAA\\\"]\\n,\\\"0ahUKEwiI2cqV06PxAhV7F1kFHZdQBT8QyicIDygAMAA\\\"]\\n]\\n,null,\\\"Photo\\\",[null,[10,\\\"AF1QipPzuz62cM6TqGjTw65QEJCOSG9f9CRF5gdtKU9G\\\"]\\n,[10,3,[1960,4032]\\n]\\n,null,[null,[[[\\\"ib webn\\\"]\\n,\\\"//maps.google.com/maps/contrib/114703470371589931096\\\",null,null,null,\\\"114703470371589931096\\\"]\\n]\\n,null,[[null,\\\"//picasaweb.google.com/\\\"]\\n]\\n]\\n,[[[2]\\n,[[null,null,38.850732508488726,-78.45245912554925]\\n]\\n]\\n]\\n,[2,null,null,[2]\\n,2,[null,null,\\\"photos:gmm_android\\\",[6,7,4,1,3]\\n]\\n]\\n]\\n,1,null,null,null,null,null,null,[\\\"-8523711603544738443\\\",\\\"4314904741061589459\\\"]\\n,null,\\\"x7G1k6afVDQ\\\"]\\n]\\n,3,null,\\\"jtzNYIjaM_uu5NoPl6GV-AM\\\",null,\\\"EvgDKYQi49-NlUMIDwAAAAEAAAMAAAAAAAAAAAAAAAAAAAAAAAAAAAAAAAAAAAAAAAAAAAAAAAAAAAAAAAAAAAAAAABAAAAAAAAAAAAAAAAAAAAAAAAAAAAAAAAAAAAAAAAAAAAAAAAAAAAAAAAAAAAAAAAAAAAAAAAAAAAAAAAAAAAAAAAAAAAAAAAAAAAAAAAAAAAAAAAAAAAAAAAAAAAAAAAAAAAAAAAAAAAAAAAAAAAAAAAAAAAAAAAAAAAAAAAAAAAAAAAAAAAAAAAAAAAAAAAAAAAAAAAAAAAAAAAAAAAAAAAAAAAAgAAAAAAAAAAAAAAAAAAAAAAAAACAAAAAAAEAAAAAAAAAAAAAAAAAAAAAAAAAAAAAAAAAAAIAAAAAAAAAAAAAAAAAAAAAAAAAAAAAAAAAAAAAAAAAAAAAAAAAAAAAAAAAAAAAACAAAAAAAAAAAAAAAAAAAAAAAAAAAAAAAAAAAAAAAAAAAAAAAAAAAAAAAAAAAAAAAAAAAAAAAAAAAAAAAAAAAAAAAAAAAAAAAAAAAAAAAAAAAAAAAAAAAAAAAAAAAAAAAAAAAAAAAAAAAAAAAAAAAAAAAAAAAAAAAAAAAAAAAgEAAAAAAAAAAAAAAAAAAAAAAAAAAgAAAAAAAAAAAAAAAAAAAAAAAAAAAAAAAAAAGANCVCmEIuPfjZVD6AEAACAAAAADAAAAAAAAAIAAAAAAAAABAAAAAACAAAAAAEAAAAIAAgAAAAAgAAEAAAAAAAAAAAAAAAAAAAAAAgAAAAAAAAAAAAAAAA\\\",null,null,[[[1,3]\\n]\\n,0,null,0,3]\\n]\\n,null,\\\"District 4, VA\\\",null,null,null,null,null,null,null,null,null,null,null,null,null,null,null,null,[\\\"38°56'30.8\\\\\\\"N 78°18'07.2\\\\\\\"W\\\",\\\"N38°56.51' W78°18.12'\\\",\\\"38.941900, -78.302000\\\"]\\n,null,null,1,null,0,null,null,null,null,null,0,null,null,null,null,[[[\\\"AF1QipP3dwML_tFtqOoFG8BIFvujZsp8v4MnpMbB-k3E\\\",10,12,\\\"\\\",null,204.21648,[\\\"https://lh5.googleusercontent.com/p/AF1QipP3dwML_tFtqOoFG8BIFvujZsp8v4MnpMbB-k3E\\\\u003dw86-h114-k-no\\\",\\\"District 4\\\",[3024,4032]\\n,[86,86]\\n]\\n,null,[[3,-78.45245912554925,38.850732508488726]\\n,[0,90]\\n,[3024,4032]\\n,75]\\n,\\\"jtzNYIjaM_uu5NoPl6GV-AM\\\",\\\"0ahUKEwiI2cqV06PxAhV7F1kFHZdQBT8QzCcIESgHMAA\\\",null,null,null,null,null,null,[\\\"District 4, VA\\\"]\\n,[[null,[\\\"//maps.google.com/maps/contrib/108416922518861469389\\\",\\\"Tracy Keiger\\\",null,\\\"0ahUKEwiI2cqV06PxAhV7F1kFHZdQBT8QyycIEygAMAA\\\"]\\n,\\\"0ahUKEwiI2cqV06PxAhV7F1kFHZdQBT8QyicIEigAMAA\\\"]\\n]\\n,null,\\\"Photo\\\",[null,[10,\\\"AF1QipP3dwML_tFtqOoFG8BIFvujZsp8v4MnpMbB-k3E\\\"]\\n,[10,3,[4032,3024]\\n]\\n,null,[null,[[[\\\"Tracy Keiger\\\"]\\n,\\\"//maps.google.com/maps/contrib/108416922518861469389\\\",null,null,null,\\\"108416922518861469389\\\"]\\n]\\n,null,[[null,\\\"//picasaweb.google.com/\\\"]\\n]\\n]\\n,[[[2]\\n,[[null,null,38.850732508488726,-78.45245912554925]\\n]\\n]\\n]\\n,[2,null,null,[2]\\n,2,[null,null,\\\"photos:gmm_android\\\",[6,7,4,1,3]\\n]\\n]\\n]\\n,1,null,null,null,null,null,null,[\\\"-8523711603544738443\\\",\\\"4314904741061589459\\\"]\\n,null,\\\"H3gzARPM4Hw\\\"]\\n,[\\\"AF1QipP3dwML_tFtqOoFG8BIFvujZsp8v4MnpMbB-k3E\\\",10,12,\\\"\\\",null,204.21648,[\\\"https://lh5.googleusercontent.com/p/AF1QipP3dwML_tFtqOoFG8BIFvujZsp8v4MnpMbB-k3E\\\\u003dw408-h544-k-no\\\",\\\"District 4\\\",[3024,4032]\\n,[408,240]\\n]\\n,null,[[3,-78.45245912554925,38.850732508488726]\\n,[0,90]\\n,[3024,4032]\\n,75]\\n,\\\"jtzNYIjaM_uu5NoPl6GV-AM\\\",\\\"0ahUKEwiI2cqV06PxAhV7F1kFHZdQBT8QzCcIFCgIMAA\\\",null,null,null,null,null,null,[\\\"District 4, VA\\\"]\\n,[[null,[\\\"//maps.google.com/maps/contrib/108416922518861469389\\\",\\\"Tracy Keiger\\\",null,\\\"0ahUKEwiI2cqV06PxAhV7F1kFHZdQBT8QyycIFigAMAA\\\"]\\n,\\\"0ahUKEwiI2cqV06PxAhV7F1kFHZdQBT8QyicIFSgAMAA\\\"]\\n]\\n,null,\\\"Photo\\\",[null,[10,\\\"AF1QipP3dwML_tFtqOoFG8BIFvujZsp8v4MnpMbB-k3E\\\"]\\n,[10,3,[4032,3024]\\n]\\n,null,[null,[[[\\\"Tracy Keiger\\\"]\\n,\\\"//maps.google.com/maps/contrib/108416922518861469389\\\",null,null,null,\\\"108416922518861469389\\\"]\\n]\\n,null,[[null,\\\"//picasaweb.google.com/\\\"]\\n]\\n]\\n,[[[2]\\n,[[null,null,38.850732508488726,-78.45245912554925]\\n]\\n]\\n]\\n,[2,null,null,[2]\\n,2,[null,null,\\\"photos:gmm_android\\\",[6,7,4,1,3]\\n]\\n]\\n]\\n,1,null,null,null,null,null,null,[\\\"-8523711603544738443\\\",\\\"4314904741061589459\\\"]\\n,null,\\\"H3gzARPM4Hw\\\"]\\n]\\n]\\n,null,null,null,null,null,null,null,null,null,null,null,null,null,null,null,null,null,null,null,null,null,null,null,null,null,null,null,null,null,null,null,null,null,null,null,null,null,null,null,null,null,null,null,null,null,null,null,null,null,null,null,null,null,null,null,null,null,0,null,null,null,null,null,null,null,null,null,null,null,null,null,null,null,null,null,null,null,null,null,null,null,null,null,null,null,null,null,null,null,null,null,null,null,null,null,null,null,null,null,null,null,null,null,null,null,null,null,null,null,null,[[[1,[[\\\"District 4, VA\\\"]\\n]\\n]\\n,[7,[[\\\"38°56'30.8\\\\\\\"N 78°18'07.2\\\\\\\"W\\\"]\\n,[\\\"38.941900, -78.302000\\\"]\\n]\\n]\\n]\\n,null,[\\\"0ahUKEwiI2cqV06PxAhV7F1kFHZdQBT8QqtMBCAgoBDAA\\\",[\\\"87C3WMRX+Q6\\\"]\\n,[\\\"WMRX+Q6 Strasburg, Virginia\\\"]\\n,1]\\n]\\n]\\n]\\n]\\n,null,0,null,[\\\"1624104079233\\\"]\\n,null,null,null,null,null,0]\\n,[[3103.2156271348717,-78.30418868464835,38.94189997956374]\\n,[0,0,0]\\n,[1024,768]\\n,13.1]\\n,null,null,null,null,null,\\\"jtzNYIjaM_uu5NoPl6GV-AM\\\",null,[[[2]\\n,[5]\\n,[6]\\n,[7]\\n,[9]\\n,[10]\\n]\\n]\\n,[[[\\\"m\\\",[17,37020,50115]\\n,13,[560284456,560284456,560284456,560284456,560284456,560274916,560274916,560277556,560284264,560284264,560284264,560284264,560272768,560284456,560284456,560284456,560284456,560284456,560274916,560274916,560272768,560272768,560284264,560284264,560284264,560277052,560284456,560283628,560283628,560283628,560283628,560274916,560272768,560284264,560284264,560284264,560284264,560284264,560277052,560284456,560283628,560283628,560283628,560283628,560274916,560272768,560284264,560284264,560284264,560283904,560284264,560284264,560284456,560283628,560283628,560283628,560283628,560274916,560284264,560284264,560284264,560284264,560283904,560284264,560284264,560284456,560283628,560283628,560283628,560283628,560274916,560284264,560284264,560284264,560284264,560284264,560284264,560284264,560283628,560274916,560274916,560274916,560274916,560274916,560284264,560284264,560284264,560284264,560284264,560284264,560284264,560284264,560284264,560274916,560274916,560274916,560274916,560273092,560273092,560277052,560284264,560284264,560284264,560284264,560284264,560284264,560274916,560274916,560274916,560272000,560273092,560273092,560273092,560277556,560277556,560284264,560284264,560284264,560284264,560274916,560274916,560274916,560272000,560273092,560273092,560273092,560277556,560277556,560283904,560283904]\\n]\\n,[\\\"m\\\",[16,18510,25057]\\n,7,[560284456,560284456,560284456,560284264,560284264,560284264,560284264,560284456,560284456,560284456,560284264,560284264,560284264,560284264,560284456,560283628,560284264,560284264,560284264,560284264,560284264,560284456,560284264,560284264,560284264,560284264,560284264,560284264,560284264,560284264,560284264,560284264,560284264,560284264,560284264,560284264,560284264,560274916,560272000,560272000,560284264,560284264]\\n]\\n,[\\\"m\\\",[18,74046,100235]\\n,13,[560283628,560283628,560283628,560274916,560274916,560272768,560272768,560272768,560272768,560284264,560284264,560284264,560284264,560283628,560283628,560283628,560274916,560274916,560272768,560272768,560272768,560272768,560284264,560284264,560284264,560284264,560283628,560283628,560283628,560274916,560274916,560272768,560272768,560272768,560272768,560284264,560284264,560284264,560284264,560283628,560283628,560283628,560274916,560274916,560272768,560272768,560272768,560272768,560284264,560284264,560284264,560284264,560283628,560283628,560283628,560274916,560274916,560272768,560272768,560284264,560284264,560284264,560284264,560283904,560283904,560283628,560283628,560283628,560274916,560274916,560272768,560272768,560284264,560284264,560284264,560284264,560283904,560283904,560274916,560274916,560274916,560274916,560274916,560272768,560272768,560284264,560284264,560284264,560284264,560277052,560277052,560274916,560274916,560274916,560274916,560274916,560272768,560272768,560284264,560284264,560284264,560284264,560277052,560277052,560274916,560274916,560274916,560274916,560274916,560272000,560272000,560272000,560272000,560272000,560272000,560277052,560277052,560274916,560274916,560274916,560274916,560274916,560272000,560272000,560272000,560272000,560272000,560272000,560277052,560277052]\\n]\\n]\\n]\\n,null,null,null,null,null,[[[2,\\\"spotlight\\\",null,null,null,null,null,[[null,null,null,null,null,null,null,null,null,null,null,[null,null,null,null,null,null,null,null,null,null,null,null,null,null,null,null,null,null,null,1]\\n]\\n,[\\\"0x0:0x0\\\",\\\"+38.941900-078.302000\\\",null,[null,null,38.9419,-78.30199999999999]\\n,0,1]\\n,null,null,null,null,null,null,null,null,null,null,[null,\\\"a\\\",null,null,null,null,null,null,null,null,null,null,null,null,null,null,null,[null,null,null,null,0,0,null,null,1,null,null,1,null,null,null,0,null,null,null,1,1]\\n,null,null,null,[null,null,null,null,null,2,3,2]\\n]\\n,1,null,null,null,null,[12,14,29,30,61,70,1371340]\\n]\\n]\\n]\\n,[[52]\\n]\\n]\\n,null,null,null,null,null,null,null,null,null,null,[2]\\n,null,null,null,null,null,null,null,\\\"Q2dBd0Fn\\\",null,null,0]\\n\"]\n",
            ",null,[null,null,[0,[0,-95.665,37.599999999999994,null,2.5895662724868715E7,null,13.1,0,0,0]\n",
            ",null,1]\n",
            ",[null,[\"38.9419 -78.3020\",null,[null,\"38.9419 -78.3020\"]\n",
            ",1]\n",
            "]\n",
            "]\n",
            ",null,null,[59,63,60,67,68,61,66,65]\n",
            ",[\"38°56'30.8\\\"N 78°18'07.2\\\"W\",null,\"https://maps.google.com/maps/api/staticmap?center\\u003d38.9419%2C-78.302\\u0026zoom\\u003d15\\u0026size\\u003d200x200\\u0026markers\\u003d38.9419%2C-78.302\\u0026sensor\\u003dfalse\\u0026client\\u003dgoogle-maps-frontend\\u0026signature\\u003dlVRb2T2u716SXehYYyQ91rsHE20\",[256,256]\n",
            "]\n",
            ",null,[\"sc2\",\"per\",\"mo\",\"lp\",\"ep\",\"ti\",\"ds\",\"stx\",\"pwd\",\"plm\",\"log\",\"b\"]\n",
            "]\n",
            ";window.APP_FLAGS=[1,0,0,0.25,0,0,0,0,1,0,0,2,2,1,0,1,1,0,0,0,0,1,0,null,0,1,1,0,0,1,0,0,0,3,0,0,1,3,1,1,1,0,null,0,1,0,1,1,0,0,0,0,1,1,0,1,10,25000,10,0,0,0,0,1,0,0,null,1,6,16,0,\"\",0,1,1,0,0,0,0,0,0,1,1,1,0,0,1,1,0,0,1,0,1,2,0,0,1,0,0,0,1,1,0,0,2,0,0,1,null,1,null,null,1,1,1,1,\"\",0,0,1,0,0,1,1,0,1,604800000,1,1,0,0,null,20,0,0,30,null,0,0,0,1,1,1,1,0,0,0,0,0,2,0,0,0,1,0,2,1,0,0,1,0,2,1,0,0,1,3,0,0,0,1,0,null,\"https://tpc.googlesyndication.com/simgad/12443843956218829127?w\\u003d40\\u0026h\\u003d40\",0,0,1,1,9,0,0,0,1,\"\",0,1,1,0,0,0,1,1,1,1,1,0,1,1,1,1,null,0,1,0,1,0,1,0,1,0,0,\"support local businesses\",0,1,1,0,1,1,null,1,1,0,0,2000,2,3,0,1,0,2,1,0,0,1,0,null,1,1,0,1,0,1,1,null,1,0,0,0,850,50,40,0,0,0,null,0,0,1]\n",
            ";window.VECTORTOWN_FLAGS=[0,0,0,0,0,0,0,0,0,0,0]\n",
            ";window.DEV_MODE=false;window.JS_VERSION='maps.m.en.9vNNLuTnc4A.es5.O';window.LOGGING_ENDPOINT='/maps/preview/log204?authuser\\x3d0\\x26hl\\x3den\\x26gl\\x3dus';window.PRODUCT_ID=81;window.ES5DGURL='';window.WIZ_global_data={\"LVIXXb\":\"1\",\"w2btAe\":\"%.@.\\\"\\\",\\\"\\\",\\\"0\\\",null,null,null,1]\\n\",\"eptZe\":\"/wizrpcui/_/WizRpcUi/\",\"zChJod\":\"%.@.]\\n\",\"GWsdKe\":\"en-US\",\"Yllh3e\":\"%.@.1624104078808637,89724795,1057312919]\\n\",\"SNlM0e\":\"\",\"S06Grb\":\"\",\"QrtxK\":\"0\"};})();</script>    <script nonce=\"eeJ/nsX8W3+GJNDYf1hOvA==\">(function(){\n",
            "'use strict';var b=this||self;var d=function(){this.g=null;this.h=\"\"};d.prototype.start=function(){var a=this.g=document;if(this.h=\"hidden\"in a?\"visibilitychange\":\"mozHidden\"in a?\"mozvisibilitychange\":\"msHidden\"in a?\"msvisibilitychange\":\"webkitHidden\"in a?\"webkitvisibilitychange\":\"\"){a=this.g;var c=e;a.addEventListener&&a.addEventListener(this.h,c,!1)}};d.prototype.stop=function(){if(this.g){var a=this.g,c=e;a.removeEventListener&&a.removeEventListener(this.h,c,!1)}};var e=function(){var a=document,c=!1;\"hidden\"in a?c=a.hidden:\"mozHidden\"in a?c=a.mozHidden:\"msHidden\"in a?c=a.msHidden:\"webkitHidden\"in a&&(c=a.webkitHidden);c?b.tick(\"bg0\"):b.tick(\"bg1\")},f=new d;f.start();var g=function(){f.stop()},h=[\"globals\",\"BackgroundTicks\",\"stop\"],k=b;h[0]in k||\"undefined\"==typeof k.execScript||k.execScript(\"var \"+h[0]);for(var l;h.length&&(l=h.shift());)h.length||void 0===g?k[l]&&k[l]!==Object.prototype[l]?k=k[l]:k=k[l]={}:k[l]=g;}).call(this);</script> <style type=\"text/css\">@font-face {\n",
            "  font-family: 'Roboto';\n",
            "  font-style: normal;\n",
            "  font-weight: 300;\n",
            "  src: url(//fonts.gstatic.com/s/roboto/v18/KFOlCnqEu92Fr1MmSU5fChc9.ttf) format('truetype');\n",
            "}\n",
            "@font-face {\n",
            "  font-family: 'Roboto';\n",
            "  font-style: normal;\n",
            "  font-weight: 400;\n",
            "  src: url(//fonts.gstatic.com/s/roboto/v18/KFOmCnqEu92Fr1Mu7GxP.ttf) format('truetype');\n",
            "}\n",
            "@font-face {\n",
            "  font-family: 'Roboto';\n",
            "  font-style: normal;\n",
            "  font-weight: 500;\n",
            "  src: url(//fonts.gstatic.com/s/roboto/v18/KFOlCnqEu92Fr1MmEU9fChc9.ttf) format('truetype');\n",
            "}\n",
            "@font-face {\n",
            "  font-family: 'Roboto';\n",
            "  font-style: normal;\n",
            "  font-weight: 700;\n",
            "  src: url(//fonts.gstatic.com/s/roboto/v18/KFOlCnqEu92Fr1MmWUlfChc9.ttf) format('truetype');\n",
            "}\n",
            "@font-face {\n",
            "  font-family: 'Product Sans';\n",
            "  font-style: normal;\n",
            "  font-weight: 400;\n",
            "  src: url(//fonts.gstatic.com/s/productsans/v9/pxiDypQkot1TnFhsFMOfGShVF9eL.ttf) format('truetype');\n",
            "}\n",
            "@font-face {\n",
            "  font-family: 'Google Sans';\n",
            "  font-style: normal;\n",
            "  font-weight: 400;\n",
            "  src: url(//fonts.gstatic.com/s/googlesans/v14/4UaGrENHsxJlGDuGo1OIlL3Owps.ttf) format('truetype');\n",
            "}\n",
            "@font-face {\n",
            "  font-family: 'Google Sans';\n",
            "  font-style: normal;\n",
            "  font-weight: 500;\n",
            "  src: url(//fonts.gstatic.com/s/googlesans/v14/4UabrENHsxJlGDuGo1OIlLU94YtzCwM.ttf) format('truetype');\n",
            "}\n",
            "@font-face {\n",
            "  font-family: 'Google Sans Display';\n",
            "  font-style: normal;\n",
            "  font-weight: 400;\n",
            "  src: url(//fonts.gstatic.com/s/googlesansdisplay/v13/ea8FacM9Wef3EJPWRrHjgE4B6CnlZxHVDv79pA.ttf) format('truetype');\n",
            "}\n",
            "#gbar,#guser{font-size:13px;padding-top:1px !important;}#gbar{height:22px}#guser{padding-bottom:7px !important;text-align:right}.gbh,.gbd{border-top:1px solid #c9d7f1;font-size:1px}.gbh{height:0;position:absolute;top:24px;width:100%}@media all{.gb1{height:22px;margin-right:.5em;vertical-align:top}#gbar{float:left}}a.gb1,a.gb4{text-decoration:underline !important}a.gb1,a.gb4{color:#00c !important}.gbi .gb4{color:#dd8e27 !important}.gbf .gb4{color:#900 !important}\n",
            "html, body { font-family: Roboto, Arial, sans-serif; }</style> <style>html,body{margin:0;padding:0}body{-ms-touch-action:none;touch-action:none;overflow:hidden}a,button,h1,h2,h3,h4,h5,h6,input,ol,p,textarea,th,ul{background:transparent;border:0;border-radius:0;font:inherit;list-style:none;margin:0;outline:0;overflow:visible;padding:0;vertical-align:baseline}textarea{overflow:auto}table{border-collapse:collapse;border-spacing:0}button::-moz-focus-inner,input::-moz-focus-inner,textarea::-moz-focus-inner{margin:0;padding:0;border:0}button,input,textarea{color:inherit}input::-ms-clear{display:none}a{cursor:pointer;text-decoration:none;outline:none}a:hover{text-decoration:underline}:focus{outline:none}#no-script{position:absolute;left:0;right:0;top:0;bottom:0;background:#f8f9fa}.no-script-message{position:absolute;left:50%;top:50%;width:575px;transform:translateX(-50%) translateY(-50%);transform:translateX(-50%) translateY(-50%);background:url('//maps.gstatic.com/tactile/basepage/pegman_sherlock.png') no-repeat;background-size:160px 193px;height:143px;padding-top:50px;padding-left:200px;font-size:30px;font-weight:300}.no-script-help-link{color:#4285f4;font-size:14px;font-weight:normal}</style> <link href=\"/maps/preview/pwa/manifest?source=ttpwa&amp;hl=en\" crossorigin=\"use-credentials\" rel=\"manifest\"> <script nonce=\"eeJ/nsX8W3+GJNDYf1hOvA==\">tick('s');</script>  <link href=\"/maps/_/ss/k=maps.m.5fb5EnjotU0.L.X.O/m=sc2,per,mo,lp,ep,ti,ds,stx,pwd,plm,log,b/am=N4A/d=1/rs=ACT90oHvcdtre72fujvU6HR1_13mKqYtUg\" rel=\"stylesheet\" nonce=\"eeJ/nsX8W3+GJNDYf1hOvA==\">  </head> <body class=\"keynav-mode-off\" jstrack=\"1\" tabindex=\"-1\"> <script nonce=\"eeJ/nsX8W3+GJNDYf1hOvA==\">tick('b0');</script> <script nonce=\"eeJ/nsX8W3+GJNDYf1hOvA==\">if (window.devicePixelRatio > 1){document.body.className += ' highres';}\n",
            "</script> <script nonce=\"eeJ/nsX8W3+GJNDYf1hOvA==\">(function(){if(window.tactilecsi){window.tactilecsi.g={};window.tactilecsi.h=1;window.tactilecsi.setTimerName=function(d,a){d.name=a};var n=function(d,a,g){var b=\"\";window.tactilecsi.srt&&(b+=\"&srt=\"+window.tactilecsi.srt,delete window.tactilecsi.srt);window.tactilecsi.pt&&(b+=\"&tbsrt=\"+window.tactilecsi.pt,delete window.tactilecsi.pt);try{window.external&&window.external.tran?b+=\"&tran=\"+window.external.tran:window.gtbExternal&&window.gtbExternal.tran?b+=\"&tran=\"+window.gtbExternal.tran():window.chrome&&window.chrome.csi&&\n",
            "(b+=\"&tran=\"+window.chrome.csi().tran)}catch(q){}var c=window.chrome;if(c&&(c=c.loadTimes)){c().wasFetchedViaSpdy&&(b+=\"&p=s\");if(c().wasNpnNegotiated){b+=\"&npn=1\";var e=c().npnNegotiatedProtocol;e&&(b+=\"&npnv=\"+(encodeURIComponent||escape)(e))}c().wasAlternateProtocolAvailable&&(b+=\"&apa=1\")}if(\"undefined\"!=typeof navigator&&navigator&&navigator.connection){c=navigator.connection;e=c.type;for(var f in c)if(\"type\"!=f&&c[f]==e){b+=\"&conn=\"+f;break}}c=d.t;e=c.start;f=[];for(var h in c)if(\"start\"!=h&&\n",
            "e){var k=d.t[h];var l=d.t.start;k&&l?(k-=l,k=Math.round(k)):k=void 0;f.push(h+\".\"+k)}delete c.start;if(a)for(var m in a)b+=\"&\"+m+\"=\"+a[m];(a=g)||(a=\"https:\"==document.location.protocol?\"https://csi.gstatic.com/csi\":\"http://csi.gstatic.com/csi\");return d=[a,\"?v=3\",\"&s=\"+(window.tactilecsi.sn||\"tactile\")+\"&action=\",d.name,\"\",b,\"&rt=\",f.join(\",\")].join(\"\")};window.tactilecsi.getReportUri=n;var p=function(d,a,g){d=n(d,a,g);if(!d)return\"\";a=new Image;var b=window.tactilecsi.h++;window.tactilecsi.g[b]=\n",
            "a;a.onload=a.onerror=function(){window.tactilecsi&&delete window.tactilecsi.g[b]};a.src=d;a=null;return d};window.tactilecsi.report=function(d,a,g){var b=document.visibilityState,c=\"visibilitychange\";b||(b=document.webkitVisibilityState,c=\"webkitvisibilitychange\");if(\"prerender\"==b){var e=!1,f=function(){if(!e){a?a.prerender=\"1\":a={prerender:\"1\"};if(\"prerender\"==(document.visibilityState||document.webkitVisibilityState))var h=!1;else p(d,a,g),h=!0;h&&(e=!0,document.removeEventListener(c,f,!1))}};document.addEventListener(c,f,!1);return\"\"}return p(d,a,g)}};}).call(this);</script> <script nonce=\"eeJ/nsX8W3+GJNDYf1hOvA==\">tick('ms0');</script>    <script src=\"/maps/_/js/k=maps.m.en.9vNNLuTnc4A.es5.O/m=sc2,per,mo,lp,ep,ti,ds,stx,pwd,plm,log,b/am=N4A/rt=j/d=1/rs=ACT90oH3UNwdfASqgUp77NOGAHNFwRw_lg\" nonce=\"eeJ/nsX8W3+GJNDYf1hOvA==\"></script>   <script nonce=\"eeJ/nsX8W3+GJNDYf1hOvA==\">tick('ms1');</script> <script nonce=\"eeJ/nsX8W3+GJNDYf1hOvA==\">tick('b1');</script>  <script nonce=\"eeJ/nsX8W3+GJNDYf1hOvA==\">tick('p1');</script> <noscript> <div id=\"no-script\"> <div class=\"no-script-message\"> <div> When you have eliminated the <strong>JavaScript</strong>, whatever remains must be an empty page. </div> <a class=\"no-script-help-link\" href=\"https://support.google.com/maps/?hl=en&amp;authuser=0&amp;p=no_javascript\" target=\"_blank\"> Enable JavaScript to see Google Maps. </a> </div> </div> </noscript> </body> </html>\n"
          ],
          "name": "stdout"
        }
      ]
    },
    {
      "cell_type": "code",
      "metadata": {
        "colab": {
          "base_uri": "https://localhost:8080/"
        },
        "id": "bC_1Ux0wJfi9",
        "outputId": "068334a0-2e8e-4533-80d1-abf3aef4e3f1"
      },
      "source": [
        "import requests\n",
        "response=requests.get('http://maps.google.com/maps?z=12&t=m&q=loc:38.9419+-78.3020')\n",
        "print(response.status_code)\n",
        "print(response.url)"
      ],
      "execution_count": null,
      "outputs": [
        {
          "output_type": "stream",
          "text": [
            "200\n",
            "https://www.google.com:443/maps?z=12&t=m&q=loc:38.9419+-78.3020\n"
          ],
          "name": "stdout"
        }
      ]
    },
    {
      "cell_type": "code",
      "metadata": {
        "colab": {
          "base_uri": "https://localhost:8080/"
        },
        "id": "0aop91vEJkkC",
        "outputId": "7b4c09fc-a57b-412f-842e-b43450080904"
      },
      "source": [
        "import requests\n",
        "response=requests.get('http://maps.google.com/maps?z=12&t=m&q=loc:38.9419+-78.3020')\n",
        "print(response.status_code)\n",
        "print(response.headers)\n",
        "header_info=response.headers\n",
        "print(header_info['Date'])\n",
        "print(header_info['Expires'])\n"
      ],
      "execution_count": null,
      "outputs": [
        {
          "output_type": "stream",
          "text": [
            "200\n",
            "{'Date': 'Sat, 19 Jun 2021 12:07:00 GMT', 'Expires': '-1', 'Cache-Control': 'private, max-age=0', 'X-Robots-Tag': 'noindex,nofollow', 'Content-Type': 'text/html; charset=UTF-8', 'P3P': 'CP=\"This is not a P3P policy! See g.co/p3phelp for more info.\"', 'Content-Encoding': 'gzip', 'Server': 'gws', 'X-XSS-Protection': '0', 'X-Frame-Options': 'SAMEORIGIN', 'Set-Cookie': '1P_JAR=2021-06-19-12; expires=Mon, 19-Jul-2021 12:07:00 GMT; path=/; domain=.google.com; Secure, NID=217=gC4hEdi7Tcg0YmcftQPg_N_wIHdqAPFEuG-kktK_H3CaZARs-U7rFv1ffDljlH2weMgTFvxIxJgfDlB_YrIpBQ6BPfkXXctMEHn0nbl-OowApP6md2Y0wn3H2cYBrx8jIFGyLZR1Of-2iIemAjjlUnTegB-JS3pazYsxfEUZwBo; expires=Sun, 19-Dec-2021 12:07:00 GMT; path=/; domain=.google.com; HttpOnly', 'Transfer-Encoding': 'chunked'}\n",
            "Sat, 19 Jun 2021 12:07:00 GMT\n",
            "-1\n"
          ],
          "name": "stdout"
        }
      ]
    },
    {
      "cell_type": "markdown",
      "metadata": {
        "id": "48VI54FeK91v"
      },
      "source": [
        "#json\n",
        "\n",
        "json is most commonly used file format used for data interchange using api.ajax is also used\n",
        "\n",
        "json->javaScript object notation\n",
        "\n",
        "it has 2 parts:key,value pair\n",
        "\n",
        "data types offered by json\n",
        "\n",
        "1.primitive data types:number ,string,boolean,null\n",
        "2.complex data types:array,object"
      ]
    },
    {
      "cell_type": "markdown",
      "metadata": {
        "id": "fuYsTLGaMw-o"
      },
      "source": [
        "#json to python\n",
        "\n",
        "1.object converted to dictionary\n",
        "\n",
        "2.number converted to int ,float\n",
        "\n",
        "\n",
        "3.boolean converted to boolean\n",
        "\n",
        "4.string converted to string\n",
        "\n",
        "5.array converted to list ,tuple\n",
        "\n",
        "6.null converted to none\n"
      ]
    },
    {
      "cell_type": "code",
      "metadata": {
        "colab": {
          "base_uri": "https://localhost:8080/"
        },
        "id": "Q9KgkxVXMlOG",
        "outputId": "880d23e0-b3fd-43b0-a821-f326eb15c035"
      },
      "source": [
        "import json\n",
        "json_data='{\"Student\":\"shruti\"}'\n",
        "python_data=json.loads(json_data)\n",
        "print(type(python_data))\n",
        "print(python_data['Student'])"
      ],
      "execution_count": null,
      "outputs": [
        {
          "output_type": "stream",
          "text": [
            "<class 'dict'>\n",
            "shruti\n"
          ],
          "name": "stdout"
        }
      ]
    },
    {
      "cell_type": "code",
      "metadata": {
        "colab": {
          "base_uri": "https://localhost:8080/"
        },
        "id": "l9M-4V-pNj6N",
        "outputId": "d434e442-e450-477f-9ef8-cf84b4450f95"
      },
      "source": [
        "json_data='{\"roll_number\":785}'\n",
        "python_data=json.loads(json_data)\n",
        "print(python_data[\"roll_number\"])\n",
        "print(type(python_data['roll_number']))\n"
      ],
      "execution_count": null,
      "outputs": [
        {
          "output_type": "stream",
          "text": [
            "785\n",
            "<class 'int'>\n"
          ],
          "name": "stdout"
        }
      ]
    },
    {
      "cell_type": "code",
      "metadata": {
        "colab": {
          "base_uri": "https://localhost:8080/"
        },
        "id": "YGOtl-JhOpu9",
        "outputId": "0ccf8696-fe80-48cc-aea8-c4ae3b23c89a"
      },
      "source": [
        "json_data='{\"roll_number\":null}'\n",
        "python_data=json.loads(json_data)\n",
        "print(python_data[\"roll_number\"])\n",
        "print(type(python_data['roll_number']))"
      ],
      "execution_count": null,
      "outputs": [
        {
          "output_type": "stream",
          "text": [
            "None\n",
            "<class 'NoneType'>\n"
          ],
          "name": "stdout"
        }
      ]
    },
    {
      "cell_type": "code",
      "metadata": {
        "colab": {
          "base_uri": "https://localhost:8080/"
        },
        "id": "fzsvaWGxOuBQ",
        "outputId": "51550e42-a061-4f18-a86a-91343b73c7e7"
      },
      "source": [
        "json_data='{\"Student\":{\"Name\":\"shruti\",\"Roll_no\":2345}}'\n",
        "python_data=json.loads(json_data)\n",
        "student_details=python_data['Student']\n",
        "print(student_details['Name'])"
      ],
      "execution_count": null,
      "outputs": [
        {
          "output_type": "stream",
          "text": [
            "shruti\n"
          ],
          "name": "stdout"
        }
      ]
    },
    {
      "cell_type": "markdown",
      "metadata": {
        "id": "gMROF7N5l_8c"
      },
      "source": [
        "dog api"
      ]
    },
    {
      "cell_type": "code",
      "metadata": {
        "colab": {
          "base_uri": "https://localhost:8080/"
        },
        "id": "4FTJHExqlz3e",
        "outputId": "ee3c19a3-5760-4524-b76b-1aff03dae885"
      },
      "source": [
        "p=requests.get('https://dog.ceo/api/breeds/list/all')\n",
        "print(p.text)"
      ],
      "execution_count": 12,
      "outputs": [
        {
          "output_type": "stream",
          "text": [
            "{\"message\":{\"affenpinscher\":[],\"african\":[],\"airedale\":[],\"akita\":[],\"appenzeller\":[],\"australian\":[\"shepherd\"],\"basenji\":[],\"beagle\":[],\"bluetick\":[],\"borzoi\":[],\"bouvier\":[],\"boxer\":[],\"brabancon\":[],\"briard\":[],\"buhund\":[\"norwegian\"],\"bulldog\":[\"boston\",\"english\",\"french\"],\"bullterrier\":[\"staffordshire\"],\"cairn\":[],\"cattledog\":[\"australian\"],\"chihuahua\":[],\"chow\":[],\"clumber\":[],\"cockapoo\":[],\"collie\":[\"border\"],\"coonhound\":[],\"corgi\":[\"cardigan\"],\"cotondetulear\":[],\"dachshund\":[],\"dalmatian\":[],\"dane\":[\"great\"],\"deerhound\":[\"scottish\"],\"dhole\":[],\"dingo\":[],\"doberman\":[],\"elkhound\":[\"norwegian\"],\"entlebucher\":[],\"eskimo\":[],\"finnish\":[\"lapphund\"],\"frise\":[\"bichon\"],\"germanshepherd\":[],\"greyhound\":[\"italian\"],\"groenendael\":[],\"havanese\":[],\"hound\":[\"afghan\",\"basset\",\"blood\",\"english\",\"ibizan\",\"plott\",\"walker\"],\"husky\":[],\"keeshond\":[],\"kelpie\":[],\"komondor\":[],\"kuvasz\":[],\"labradoodle\":[],\"labrador\":[],\"leonberg\":[],\"lhasa\":[],\"malamute\":[],\"malinois\":[],\"maltese\":[],\"mastiff\":[\"bull\",\"english\",\"tibetan\"],\"mexicanhairless\":[],\"mix\":[],\"mountain\":[\"bernese\",\"swiss\"],\"newfoundland\":[],\"otterhound\":[],\"ovcharka\":[\"caucasian\"],\"papillon\":[],\"pekinese\":[],\"pembroke\":[],\"pinscher\":[\"miniature\"],\"pitbull\":[],\"pointer\":[\"german\",\"germanlonghair\"],\"pomeranian\":[],\"poodle\":[\"miniature\",\"standard\",\"toy\"],\"pug\":[],\"puggle\":[],\"pyrenees\":[],\"redbone\":[],\"retriever\":[\"chesapeake\",\"curly\",\"flatcoated\",\"golden\"],\"ridgeback\":[\"rhodesian\"],\"rottweiler\":[],\"saluki\":[],\"samoyed\":[],\"schipperke\":[],\"schnauzer\":[\"giant\",\"miniature\"],\"setter\":[\"english\",\"gordon\",\"irish\"],\"sheepdog\":[\"english\",\"shetland\"],\"shiba\":[],\"shihtzu\":[],\"spaniel\":[\"blenheim\",\"brittany\",\"cocker\",\"irish\",\"japanese\",\"sussex\",\"welsh\"],\"springer\":[\"english\"],\"stbernard\":[],\"terrier\":[\"american\",\"australian\",\"bedlington\",\"border\",\"dandie\",\"fox\",\"irish\",\"kerryblue\",\"lakeland\",\"norfolk\",\"norwich\",\"patterdale\",\"russell\",\"scottish\",\"sealyham\",\"silky\",\"tibetan\",\"toy\",\"westhighland\",\"wheaten\",\"yorkshire\"],\"vizsla\":[],\"waterdog\":[\"spanish\"],\"weimaraner\":[],\"whippet\":[],\"wolfhound\":[\"irish\"]},\"status\":\"success\"}\n"
          ],
          "name": "stdout"
        }
      ]
    },
    {
      "cell_type": "code",
      "metadata": {
        "colab": {
          "base_uri": "https://localhost:8080/"
        },
        "id": "r-s7C4vhmVoP",
        "outputId": "40dc85ba-c474-4f7f-f014-bd7f839e52b5"
      },
      "source": [
        "#json is inbuilt library in request\n",
        "\n",
        "#instead of load we can use response.json or p.json\n",
        "\n",
        "python_data=p.json()\n",
        "print(type(python_data))\n",
        "print(python_data)"
      ],
      "execution_count": 15,
      "outputs": [
        {
          "output_type": "stream",
          "text": [
            "<class 'dict'>\n",
            "{'message': {'affenpinscher': [], 'african': [], 'airedale': [], 'akita': [], 'appenzeller': [], 'australian': ['shepherd'], 'basenji': [], 'beagle': [], 'bluetick': [], 'borzoi': [], 'bouvier': [], 'boxer': [], 'brabancon': [], 'briard': [], 'buhund': ['norwegian'], 'bulldog': ['boston', 'english', 'french'], 'bullterrier': ['staffordshire'], 'cairn': [], 'cattledog': ['australian'], 'chihuahua': [], 'chow': [], 'clumber': [], 'cockapoo': [], 'collie': ['border'], 'coonhound': [], 'corgi': ['cardigan'], 'cotondetulear': [], 'dachshund': [], 'dalmatian': [], 'dane': ['great'], 'deerhound': ['scottish'], 'dhole': [], 'dingo': [], 'doberman': [], 'elkhound': ['norwegian'], 'entlebucher': [], 'eskimo': [], 'finnish': ['lapphund'], 'frise': ['bichon'], 'germanshepherd': [], 'greyhound': ['italian'], 'groenendael': [], 'havanese': [], 'hound': ['afghan', 'basset', 'blood', 'english', 'ibizan', 'plott', 'walker'], 'husky': [], 'keeshond': [], 'kelpie': [], 'komondor': [], 'kuvasz': [], 'labradoodle': [], 'labrador': [], 'leonberg': [], 'lhasa': [], 'malamute': [], 'malinois': [], 'maltese': [], 'mastiff': ['bull', 'english', 'tibetan'], 'mexicanhairless': [], 'mix': [], 'mountain': ['bernese', 'swiss'], 'newfoundland': [], 'otterhound': [], 'ovcharka': ['caucasian'], 'papillon': [], 'pekinese': [], 'pembroke': [], 'pinscher': ['miniature'], 'pitbull': [], 'pointer': ['german', 'germanlonghair'], 'pomeranian': [], 'poodle': ['miniature', 'standard', 'toy'], 'pug': [], 'puggle': [], 'pyrenees': [], 'redbone': [], 'retriever': ['chesapeake', 'curly', 'flatcoated', 'golden'], 'ridgeback': ['rhodesian'], 'rottweiler': [], 'saluki': [], 'samoyed': [], 'schipperke': [], 'schnauzer': ['giant', 'miniature'], 'setter': ['english', 'gordon', 'irish'], 'sheepdog': ['english', 'shetland'], 'shiba': [], 'shihtzu': [], 'spaniel': ['blenheim', 'brittany', 'cocker', 'irish', 'japanese', 'sussex', 'welsh'], 'springer': ['english'], 'stbernard': [], 'terrier': ['american', 'australian', 'bedlington', 'border', 'dandie', 'fox', 'irish', 'kerryblue', 'lakeland', 'norfolk', 'norwich', 'patterdale', 'russell', 'scottish', 'sealyham', 'silky', 'tibetan', 'toy', 'westhighland', 'wheaten', 'yorkshire'], 'vizsla': [], 'waterdog': ['spanish'], 'weimaraner': [], 'whippet': [], 'wolfhound': ['irish']}, 'status': 'success'}\n"
          ],
          "name": "stdout"
        }
      ]
    },
    {
      "cell_type": "code",
      "metadata": {
        "colab": {
          "base_uri": "https://localhost:8080/"
        },
        "id": "jU7rB1q4m4Mx",
        "outputId": "75c93782-baf5-46ef-820a-6bc65516ad36"
      },
      "source": [
        "for key,val in python_data['message'].items():\n",
        "  print(key,\":\",len(val))"
      ],
      "execution_count": 16,
      "outputs": [
        {
          "output_type": "stream",
          "text": [
            "affenpinscher : 0\n",
            "african : 0\n",
            "airedale : 0\n",
            "akita : 0\n",
            "appenzeller : 0\n",
            "australian : 1\n",
            "basenji : 0\n",
            "beagle : 0\n",
            "bluetick : 0\n",
            "borzoi : 0\n",
            "bouvier : 0\n",
            "boxer : 0\n",
            "brabancon : 0\n",
            "briard : 0\n",
            "buhund : 1\n",
            "bulldog : 3\n",
            "bullterrier : 1\n",
            "cairn : 0\n",
            "cattledog : 1\n",
            "chihuahua : 0\n",
            "chow : 0\n",
            "clumber : 0\n",
            "cockapoo : 0\n",
            "collie : 1\n",
            "coonhound : 0\n",
            "corgi : 1\n",
            "cotondetulear : 0\n",
            "dachshund : 0\n",
            "dalmatian : 0\n",
            "dane : 1\n",
            "deerhound : 1\n",
            "dhole : 0\n",
            "dingo : 0\n",
            "doberman : 0\n",
            "elkhound : 1\n",
            "entlebucher : 0\n",
            "eskimo : 0\n",
            "finnish : 1\n",
            "frise : 1\n",
            "germanshepherd : 0\n",
            "greyhound : 1\n",
            "groenendael : 0\n",
            "havanese : 0\n",
            "hound : 7\n",
            "husky : 0\n",
            "keeshond : 0\n",
            "kelpie : 0\n",
            "komondor : 0\n",
            "kuvasz : 0\n",
            "labradoodle : 0\n",
            "labrador : 0\n",
            "leonberg : 0\n",
            "lhasa : 0\n",
            "malamute : 0\n",
            "malinois : 0\n",
            "maltese : 0\n",
            "mastiff : 3\n",
            "mexicanhairless : 0\n",
            "mix : 0\n",
            "mountain : 2\n",
            "newfoundland : 0\n",
            "otterhound : 0\n",
            "ovcharka : 1\n",
            "papillon : 0\n",
            "pekinese : 0\n",
            "pembroke : 0\n",
            "pinscher : 1\n",
            "pitbull : 0\n",
            "pointer : 2\n",
            "pomeranian : 0\n",
            "poodle : 3\n",
            "pug : 0\n",
            "puggle : 0\n",
            "pyrenees : 0\n",
            "redbone : 0\n",
            "retriever : 4\n",
            "ridgeback : 1\n",
            "rottweiler : 0\n",
            "saluki : 0\n",
            "samoyed : 0\n",
            "schipperke : 0\n",
            "schnauzer : 2\n",
            "setter : 3\n",
            "sheepdog : 2\n",
            "shiba : 0\n",
            "shihtzu : 0\n",
            "spaniel : 7\n",
            "springer : 1\n",
            "stbernard : 0\n",
            "terrier : 21\n",
            "vizsla : 0\n",
            "waterdog : 1\n",
            "weimaraner : 0\n",
            "whippet : 0\n",
            "wolfhound : 1\n"
          ],
          "name": "stdout"
        }
      ]
    },
    {
      "cell_type": "code",
      "metadata": {
        "colab": {
          "base_uri": "https://localhost:8080/"
        },
        "id": "U78mTR7Cm-eP",
        "outputId": "92904277-55a3-49c1-97a4-73519f96794b"
      },
      "source": [
        "#subbreed\n",
        "\n",
        "for i in python_data['message']['spaniel']:\n",
        "  print(i)"
      ],
      "execution_count": 17,
      "outputs": [
        {
          "output_type": "stream",
          "text": [
            "blenheim\n",
            "brittany\n",
            "cocker\n",
            "irish\n",
            "japanese\n",
            "sussex\n",
            "welsh\n"
          ],
          "name": "stdout"
        }
      ]
    },
    {
      "cell_type": "code",
      "metadata": {
        "colab": {
          "base_uri": "https://localhost:8080/"
        },
        "id": "nD2Rrqpgm-h_",
        "outputId": "8fbe8a9f-f40e-49e2-a3fd-a8b777dc192a"
      },
      "source": [
        "\n",
        "for i in python_data['message']['wolfhound']:\n",
        "  print(i)"
      ],
      "execution_count": 18,
      "outputs": [
        {
          "output_type": "stream",
          "text": [
            "irish\n"
          ],
          "name": "stdout"
        }
      ]
    },
    {
      "cell_type": "code",
      "metadata": {
        "colab": {
          "base_uri": "https://localhost:8080/"
        },
        "id": "iWUehLb0m-o-",
        "outputId": "679a114f-1bce-4ea2-a3c4-efbd6f83fda1"
      },
      "source": [
        "for i in python_data['message']['mastiff']:\n",
        "  print(i)"
      ],
      "execution_count": 19,
      "outputs": [
        {
          "output_type": "stream",
          "text": [
            "bull\n",
            "english\n",
            "tibetan\n"
          ],
          "name": "stdout"
        }
      ]
    },
    {
      "cell_type": "markdown",
      "metadata": {
        "id": "QUfj0Xg4oVb-"
      },
      "source": [
        "# open aq platform API\n",
        "for air quality data\n",
        "passing parameter\n",
        "\n",
        "uses:majorly lies in authentication \n"
      ]
    },
    {
      "cell_type": "code",
      "metadata": {
        "colab": {
          "base_uri": "https://localhost:8080/"
        },
        "id": "LuiSn4x5oUY4",
        "outputId": "8c483c97-306a-4ff8-94a7-76e819889058"
      },
      "source": [
        "s=requests.get('https://api.openaq.org/v1/cities')\n",
        "print(s.status_code)"
      ],
      "execution_count": 20,
      "outputs": [
        {
          "output_type": "stream",
          "text": [
            "200\n"
          ],
          "name": "stdout"
        }
      ]
    },
    {
      "cell_type": "code",
      "metadata": {
        "colab": {
          "base_uri": "https://localhost:8080/"
        },
        "id": "K1Zp9HQhpbX_",
        "outputId": "75abc96e-ca14-4c17-a840-36b952941533"
      },
      "source": [
        "print(s.json())"
      ],
      "execution_count": 22,
      "outputs": [
        {
          "output_type": "stream",
          "text": [
            "{'meta': {'name': 'openaq-api', 'license': 'CC BY 4.0d', 'website': 'https://u50g7n0cbj.execute-api.us-east-1.amazonaws.com/', 'page': 1, 'limit': 100, 'found': 2915}, 'results': [{'country': 'US', 'name': '007', 'city': '007', 'count': 1372, 'locations': 5}, {'country': 'US', 'name': '019', 'city': '019', 'count': 704, 'locations': 1}, {'country': 'US', 'name': '037', 'city': '037', 'count': 2683, 'locations': 23}, {'country': 'US', 'name': '039', 'city': '039', 'count': 380, 'locations': 1}, {'country': 'US', 'name': '047', 'city': '047', 'count': 101, 'locations': 1}, {'country': 'US', 'name': '051', 'city': '051', 'count': 330, 'locations': 7}, {'country': 'US', 'name': '077', 'city': '077', 'count': 670334, 'locations': 1}, {'country': 'CH', 'name': 'Aargau', 'city': 'Aargau', 'count': 4054, 'locations': 1}, {'country': 'MX', 'name': 'Abasolo', 'city': 'Abasolo', 'count': 32422943, 'locations': 2}, {'country': 'US', 'name': 'ABBEVILLE', 'city': 'ABBEVILLE', 'count': 4619, 'locations': 1}, {'country': 'US', 'name': 'Aberdeen', 'city': 'Aberdeen', 'count': 43018851, 'locations': 2}, {'country': 'GB', 'name': 'Aberdeen', 'city': 'Aberdeen', 'count': 161282393, 'locations': 3}, {'country': 'CI', 'name': 'Abidjan', 'city': 'Abidjan', 'count': 33997283, 'locations': 1}, {'country': 'AE', 'name': 'Abu Dhabi', 'city': 'Abu Dhabi', 'count': 67144963, 'locations': 1}, {'country': 'GH', 'name': 'Accra', 'city': 'Accra', 'count': 33890048, 'locations': 12}, {'country': 'ES', 'name': 'A Coruña', 'city': 'A Coruña', 'count': 484086496, 'locations': 5}, {'country': 'US', 'name': 'ADA', 'city': 'ADA', 'count': 29956005, 'locations': 2}, {'country': 'US', 'name': 'ADAIR', 'city': 'ADAIR', 'count': 32778896, 'locations': 1}, {'country': 'US', 'name': 'ADAMS', 'city': 'ADAMS', 'count': 28230007, 'locations': 2}, {'country': 'TR', 'name': 'Adana', 'city': 'Adana', 'count': 205462, 'locations': 6}, {'country': 'ET', 'name': 'Addis Ababa', 'city': 'Addis Ababa', 'count': 33951591, 'locations': 1}, {'country': 'AU', 'name': 'Adelaide', 'city': 'Adelaide', 'count': 663866393, 'locations': 8}, {'country': 'US', 'name': 'Adrian', 'city': 'Adrian', 'count': 30420094, 'locations': 1}, {'country': 'MK', 'name': 'Aerodrom Municipality', 'city': 'Aerodrom Municipality', 'count': 133028371, 'locations': 1}, {'country': 'IN', 'name': 'Agartala', 'city': 'Agartala', 'count': 24547260, 'locations': 1}, {'country': 'IN', 'name': 'Agra', 'city': 'Agra', 'count': 21512785, 'locations': 1}, {'country': 'TR', 'name': 'Ağrı', 'city': 'Ağrı', 'count': 133254, 'locations': 2}, {'country': 'MX', 'name': 'Aguascalientes', 'city': 'Aguascalientes', 'count': 2542, 'locations': 1}, {'country': 'IN', 'name': 'Ahmedabad', 'city': 'Ahmedabad', 'count': 44994565, 'locations': 3}, {'country': 'FR', 'name': 'Ain', 'city': 'Ain', 'count': 199201563, 'locations': 2}, {'country': 'FR', 'name': 'AIR BREIZH', 'city': 'AIR BREIZH', 'count': 65722, 'locations': 5}, {'country': 'FR', 'name': 'AIR NORMAND', 'city': 'AIR NORMAND', 'count': 364, 'locations': 2}, {'country': 'FR', 'name': 'AIR PACA', 'city': 'AIR PACA', 'count': 14347, 'locations': 6}, {'country': 'FR', 'name': 'AIRPARIF', 'city': 'AIRPARIF', 'count': 67888, 'locations': 3}, {'country': 'FR', 'name': 'AIR PAYS DE LA LOIRE', 'city': 'AIR PAYS DE LA LOIRE', 'count': 924, 'locations': 1}, {'country': 'FR', 'name': 'AIR RHONE ALPES', 'city': 'AIR RHONE ALPES', 'count': 71, 'locations': 4}, {'country': 'FR', 'name': 'Aisne', 'city': 'Aisne', 'count': 113498996, 'locations': 3}, {'country': 'IN', 'name': 'Aizawl', 'city': 'Aizawl', 'count': 26446446, 'locations': 1}, {'country': 'IN', 'name': 'Ajmer', 'city': 'Ajmer', 'count': 47066892, 'locations': 4}, {'country': 'US', 'name': 'Akron', 'city': 'Akron', 'count': 89012191, 'locations': 4}, {'country': 'IS', 'name': 'Akureyri', 'city': 'Akureyri', 'count': 94880152, 'locations': 1}, {'country': 'US', 'name': 'ALAMEDA', 'city': 'ALAMEDA', 'count': 138178595, 'locations': 1}, {'country': 'RO', 'name': 'Alba', 'city': 'Alba', 'count': 167071062, 'locations': 3}, {'country': 'ES', 'name': 'Albacete', 'city': 'Albacete', 'count': 146171307, 'locations': 1}, {'country': 'US', 'name': 'Albany', 'city': 'Albany', 'count': 24827728, 'locations': 1}, {'country': 'US', 'name': 'Albany-Lebanon', 'city': 'Albany-Lebanon', 'count': 60300633, 'locations': 2}, {'country': 'US', 'name': 'Albany-Schenectady-Troy', 'city': 'Albany-Schenectady-Troy', 'count': 58998285, 'locations': 3}, {'country': 'CA', 'name': 'ALBERTA', 'city': 'ALBERTA', 'count': 1378984033, 'locations': 29}, {'country': 'US', 'name': 'Albuquerque', 'city': 'Albuquerque', 'count': 579094846, 'locations': 7}, {'country': 'IT', 'name': 'Alessandria', 'city': 'Alessandria', 'count': 97808034, 'locations': 3}, {'country': 'NO', 'name': 'Ålesund', 'city': 'Ålesund', 'count': 93342466, 'locations': 3}, {'country': 'US', 'name': 'ALEXANDER', 'city': 'ALEXANDER', 'count': 41224, 'locations': 1}, {'country': 'IT', 'name': 'ALFONSINE', 'city': 'ALFONSINE', 'count': 36472, 'locations': 1}, {'country': 'DZ', 'name': 'Algiers', 'city': 'Algiers', 'count': 33544143, 'locations': 1}, {'country': 'ES', 'name': 'Alicante/Alacant', 'city': 'Alicante/Alacant', 'count': 696818926, 'locations': 10}, {'country': 'US', 'name': 'Allegan', 'city': 'Allegan', 'count': 29715900, 'locations': 1}, {'country': 'US', 'name': 'ALLEGANY', 'city': 'ALLEGANY', 'count': 32122, 'locations': 2}, {'country': 'US', 'name': 'Allentown-Bethlehem-Easton', 'city': 'Allentown-Bethlehem-Easton', 'count': 116272910, 'locations': 3}, {'country': 'FR', 'name': 'Allier', 'city': 'Allier', 'count': 116266271, 'locations': 3}, {'country': 'ES', 'name': 'Almería', 'city': 'Almería', 'count': 824959926, 'locations': 14}, {'country': 'FR', 'name': 'Alpes-de-Haute-Provence', 'city': 'Alpes-de-Haute-Provence', 'count': 192317276, 'locations': 2}, {'country': 'FR', 'name': 'Alpes-Maritimes', 'city': 'Alpes-Maritimes', 'count': 510758130, 'locations': 10}, {'country': 'CL', 'name': 'Alto Hospicio', 'city': 'Alto Hospicio', 'count': 31088545, 'locations': 3}, {'country': 'AU', 'name': 'Altona North', 'city': 'Altona North', 'count': 84563902, 'locations': 1}, {'country': 'AU', 'name': 'Altona North 1', 'city': 'Altona North 1', 'count': 81, 'locations': 1}, {'country': 'AU', 'name': 'Altona North 2', 'city': 'Altona North 2', 'count': 78, 'locations': 1}, {'country': 'US', 'name': 'Altoona', 'city': 'Altoona', 'count': 58678630, 'locations': 1}, {'country': 'MX', 'name': 'Álvaro Obregón', 'city': 'Álvaro Obregón', 'count': 143734742, 'locations': 1}, {'country': 'IN', 'name': 'Alwar', 'city': 'Alwar', 'count': 44715041, 'locations': 2}, {'country': 'LT', 'name': 'Alytus', 'city': 'Alytus', 'count': 646229, 'locations': 1}, {'country': 'US', 'name': 'AMADOR', 'city': 'AMADOR', 'count': 25500192, 'locations': 2}, {'country': 'IN', 'name': 'Amaravati', 'city': 'Amaravati', 'count': 48537963, 'locations': 2}, {'country': 'US', 'name': 'Amarillo', 'city': 'Amarillo', 'count': 25262749, 'locations': 2}, {'country': 'TR', 'name': 'Amasya', 'city': 'Amasya', 'count': 134064, 'locations': 4}, {'country': 'IN', 'name': 'Ambala ', 'city': 'Ambala ', 'count': 28715053, 'locations': 1}, {'country': 'BR', 'name': 'Americana', 'city': 'Americana', 'count': 58778994, 'locations': 2}, {'country': 'US', 'name': 'Americus', 'city': 'Americus', 'count': 22297, 'locations': 1}, {'country': 'US', 'name': 'Ames', 'city': 'Ames', 'count': 4773, 'locations': 1}, {'country': 'JO', 'name': 'Amman', 'city': 'Amman', 'count': 33335940, 'locations': 1}, {'country': 'IN', 'name': 'Amritsar', 'city': 'Amritsar', 'count': 77336644, 'locations': 2}, {'country': 'NL', 'name': 'Amsterdam', 'city': 'Amsterdam', 'count': 1040867923, 'locations': 14}, {'country': 'AT', 'name': 'Amt der K�rntner Landesregierung', 'city': 'Amt der K�rntner Landesregierung', 'count': 5228, 'locations': 4}, {'country': 'AT', 'name': 'Amt der Nieder�sterreichischen Landesregierung', 'city': 'Amt der Nieder�sterreichischen Landesregierung', 'count': 5936, 'locations': 1}, {'country': 'AT', 'name': 'Amt der Ober�sterreichischen Landesregierung', 'city': 'Amt der Ober�sterreichischen Landesregierung', 'count': 10765, 'locations': 1}, {'country': 'AT', 'name': 'Amt der Salzburger Landesregierung', 'city': 'Amt der Salzburger Landesregierung', 'count': 8904, 'locations': 1}, {'country': 'AT', 'name': 'Amt der Steierm�rkischen Landesregierung', 'city': 'Amt der Steierm�rkischen Landesregierung', 'count': 26707, 'locations': 3}, {'country': 'US', 'name': 'Anchorage', 'city': 'Anchorage', 'count': 150005877, 'locations': 3}, {'country': 'US', 'name': 'ANCHORAGE', 'city': 'ANCHORAGE', 'count': 828, 'locations': 1}, {'country': 'IT', 'name': 'Ancona', 'city': 'Ancona', 'count': 677048457, 'locations': 5}, {'country': 'CL', 'name': 'Andacollo', 'city': 'Andacollo', 'count': 92036527, 'locations': 4}, {'country': 'US', 'name': 'Anderson', 'city': 'Anderson', 'count': 58522484, 'locations': 3}, {'country': 'US', 'name': 'ANDERSON', 'city': 'ANDERSON', 'count': 21946, 'locations': 2}, {'country': 'US', 'name': 'ANDREW', 'city': 'ANDREW', 'count': 22223, 'locations': 1}, {'country': 'TR', 'name': 'Ankara', 'city': 'Ankara', 'count': 359493, 'locations': 8}, {'country': 'IN', 'name': 'Ankleshwar', 'city': 'Ankleshwar', 'count': 30503811, 'locations': 1}, {'country': 'US', 'name': 'Ann Arbor', 'city': 'Ann Arbor', 'count': 48743393, 'locations': 2}, {'country': 'US', 'name': 'ANNE ARUNDEL', 'city': 'ANNE ARUNDEL', 'count': 1772, 'locations': 1}, {'country': 'DE', 'name': 'Annette Pausch', 'city': 'Annette Pausch', 'count': 5923, 'locations': 1}, {'country': 'CN', 'name': 'Anqing', 'city': 'Anqing', 'count': 117473, 'locations': 3}, {'country': 'CL', 'name': 'Antofagasta', 'city': 'Antofagasta', 'count': 46306953, 'locations': 1}]}\n"
          ],
          "name": "stdout"
        }
      ]
    },
    {
      "cell_type": "code",
      "metadata": {
        "colab": {
          "base_uri": "https://localhost:8080/"
        },
        "id": "S57Ml6QHpfFJ",
        "outputId": "680b0149-2f6c-4808-8274-d080c4594622"
      },
      "source": [
        "print(s.url)\n",
        "\n",
        "\n",
        "#parameter\n",
        "\n",
        "s=requests.get('https://api.openaq.org/v1/cities',params={\"country\":\"US\"})\n",
        "print(s.status_code)\n",
        "print(s.json())\n",
        "print(s.url)\n"
      ],
      "execution_count": 23,
      "outputs": [
        {
          "output_type": "stream",
          "text": [
            "https://api.openaq.org/v1/cities\n",
            "200\n",
            "{'meta': {'name': 'openaq-api', 'license': 'CC BY 4.0d', 'website': 'https://u50g7n0cbj.execute-api.us-east-1.amazonaws.com/', 'page': 1, 'limit': 100, 'found': 810}, 'results': [{'country': 'US', 'name': '007', 'city': '007', 'count': 1372, 'locations': 5}, {'country': 'US', 'name': '019', 'city': '019', 'count': 704, 'locations': 1}, {'country': 'US', 'name': '037', 'city': '037', 'count': 2683, 'locations': 23}, {'country': 'US', 'name': '039', 'city': '039', 'count': 380, 'locations': 1}, {'country': 'US', 'name': '047', 'city': '047', 'count': 101, 'locations': 1}, {'country': 'US', 'name': '051', 'city': '051', 'count': 330, 'locations': 7}, {'country': 'US', 'name': '077', 'city': '077', 'count': 670334, 'locations': 1}, {'country': 'US', 'name': 'ABBEVILLE', 'city': 'ABBEVILLE', 'count': 4619, 'locations': 1}, {'country': 'US', 'name': 'Aberdeen', 'city': 'Aberdeen', 'count': 43018851, 'locations': 2}, {'country': 'US', 'name': 'ADA', 'city': 'ADA', 'count': 29956005, 'locations': 2}, {'country': 'US', 'name': 'ADAIR', 'city': 'ADAIR', 'count': 32778896, 'locations': 1}, {'country': 'US', 'name': 'ADAMS', 'city': 'ADAMS', 'count': 28230007, 'locations': 2}, {'country': 'US', 'name': 'Adrian', 'city': 'Adrian', 'count': 30420094, 'locations': 1}, {'country': 'US', 'name': 'Akron', 'city': 'Akron', 'count': 89012191, 'locations': 4}, {'country': 'US', 'name': 'ALAMEDA', 'city': 'ALAMEDA', 'count': 138178595, 'locations': 1}, {'country': 'US', 'name': 'Albany', 'city': 'Albany', 'count': 24827728, 'locations': 1}, {'country': 'US', 'name': 'Albany-Lebanon', 'city': 'Albany-Lebanon', 'count': 60300633, 'locations': 2}, {'country': 'US', 'name': 'Albany-Schenectady-Troy', 'city': 'Albany-Schenectady-Troy', 'count': 58998285, 'locations': 3}, {'country': 'US', 'name': 'Albuquerque', 'city': 'Albuquerque', 'count': 579094846, 'locations': 7}, {'country': 'US', 'name': 'ALEXANDER', 'city': 'ALEXANDER', 'count': 41224, 'locations': 1}, {'country': 'US', 'name': 'Allegan', 'city': 'Allegan', 'count': 29715900, 'locations': 1}, {'country': 'US', 'name': 'ALLEGANY', 'city': 'ALLEGANY', 'count': 32122, 'locations': 2}, {'country': 'US', 'name': 'Allentown-Bethlehem-Easton', 'city': 'Allentown-Bethlehem-Easton', 'count': 116272910, 'locations': 3}, {'country': 'US', 'name': 'Altoona', 'city': 'Altoona', 'count': 58678630, 'locations': 1}, {'country': 'US', 'name': 'AMADOR', 'city': 'AMADOR', 'count': 25500192, 'locations': 2}, {'country': 'US', 'name': 'Amarillo', 'city': 'Amarillo', 'count': 25262749, 'locations': 2}, {'country': 'US', 'name': 'Americus', 'city': 'Americus', 'count': 22297, 'locations': 1}, {'country': 'US', 'name': 'Ames', 'city': 'Ames', 'count': 4773, 'locations': 1}, {'country': 'US', 'name': 'Anchorage', 'city': 'Anchorage', 'count': 150005877, 'locations': 3}, {'country': 'US', 'name': 'ANCHORAGE', 'city': 'ANCHORAGE', 'count': 828, 'locations': 1}, {'country': 'US', 'name': 'Anderson', 'city': 'Anderson', 'count': 58522484, 'locations': 3}, {'country': 'US', 'name': 'ANDERSON', 'city': 'ANDERSON', 'count': 21946, 'locations': 2}, {'country': 'US', 'name': 'ANDREW', 'city': 'ANDREW', 'count': 22223, 'locations': 1}, {'country': 'US', 'name': 'Ann Arbor', 'city': 'Ann Arbor', 'count': 48743393, 'locations': 2}, {'country': 'US', 'name': 'ANNE ARUNDEL', 'city': 'ANNE ARUNDEL', 'count': 1772, 'locations': 1}, {'country': 'US', 'name': 'Appleton', 'city': 'Appleton', 'count': 30407625, 'locations': 1}, {'country': 'US', 'name': 'ARAPAHOE', 'city': 'ARAPAHOE', 'count': 26051460, 'locations': 1}, {'country': 'US', 'name': 'ARCHULETA', 'city': 'ARCHULETA', 'count': 29371591, 'locations': 1}, {'country': 'US', 'name': 'Ardmore', 'city': 'Ardmore', 'count': 52194981, 'locations': 2}, {'country': 'US', 'name': 'Arkadelphia', 'city': 'Arkadelphia', 'count': 24678954, 'locations': 1}, {'country': 'US', 'name': 'AROOSTOOK', 'city': 'AROOSTOOK', 'count': 220386633, 'locations': 5}, {'country': 'US', 'name': 'Asheville', 'city': 'Asheville', 'count': 30399219, 'locations': 7}, {'country': 'US', 'name': 'ASHLAND', 'city': 'ASHLAND', 'count': 59407485, 'locations': 1}, {'country': 'US', 'name': 'Ashtabula', 'city': 'Ashtabula', 'count': 29338222, 'locations': 1}, {'country': 'US', 'name': 'ASOTIN', 'city': 'ASOTIN', 'count': 27828837, 'locations': 1}, {'country': 'US', 'name': 'Athens', 'city': 'Athens', 'count': 26249613, 'locations': 2}, {'country': 'US', 'name': 'Athens-Clarke County', 'city': 'Athens-Clarke County', 'count': 59805578, 'locations': 1}, {'country': 'US', 'name': 'Atlanta', 'city': 'Atlanta', 'count': 794, 'locations': 1}, {'country': 'US', 'name': 'Atlanta-Sandy Springs-Marietta', 'city': 'Atlanta-Sandy Springs-Marietta', 'count': 415200114, 'locations': 13}, {'country': 'US', 'name': 'Atlantic City', 'city': 'Atlantic City', 'count': 74865517, 'locations': 1}, {'country': 'US', 'name': 'Augusta-Richmond County', 'city': 'Augusta-Richmond County', 'count': 135141466, 'locations': 4}, {'country': 'US', 'name': 'Augusta-Waterville', 'city': 'Augusta-Waterville', 'count': 65758, 'locations': 2}, {'country': 'US', 'name': 'Austin-Round Rock', 'city': 'Austin-Round Rock', 'count': 58205422, 'locations': 11}, {'country': 'US', 'name': 'AVERY', 'city': 'AVERY', 'count': 24178991, 'locations': 3}, {'country': 'US', 'name': 'BAKER', 'city': 'BAKER', 'count': 30158812, 'locations': 1}, {'country': 'US', 'name': 'Bakersfield', 'city': 'Bakersfield', 'count': 403018389, 'locations': 15}, {'country': 'US', 'name': 'BALTIMORE', 'city': 'BALTIMORE', 'count': 29854514, 'locations': 2}, {'country': 'US', 'name': 'Baltimore-Towson', 'city': 'Baltimore-Towson', 'count': 279367469, 'locations': 10}, {'country': 'US', 'name': 'Bangor', 'city': 'Bangor', 'count': 42049, 'locations': 3}, {'country': 'US', 'name': 'BANNOCK', 'city': 'BANNOCK', 'count': 29327788, 'locations': 1}, {'country': 'US', 'name': 'Baraboo', 'city': 'Baraboo', 'count': 58852708, 'locations': 1}, {'country': 'US', 'name': 'Barnstable Town', 'city': 'Barnstable Town', 'count': 25982563, 'locations': 1}, {'country': 'US', 'name': 'BARTHOLOMEW', 'city': 'BARTHOLOMEW', 'count': 5, 'locations': 1}, {'country': 'US', 'name': 'Baton Rouge', 'city': 'Baton Rouge', 'count': 311586610, 'locations': 9}, {'country': 'US', 'name': 'BAYAMON', 'city': 'BAYAMON', 'count': 11616, 'locations': 1}, {'country': 'US', 'name': 'Bay City', 'city': 'Bay City', 'count': 30371657, 'locations': 1}, {'country': 'US', 'name': 'BEAUFORT', 'city': 'BEAUFORT', 'count': 24769561, 'locations': 1}, {'country': 'US', 'name': 'Beaumont-Port Arthur', 'city': 'Beaumont-Port Arthur', 'count': 207997986, 'locations': 10}, {'country': 'US', 'name': 'BECKER', 'city': 'BECKER', 'count': 30395872, 'locations': 1}, {'country': 'US', 'name': 'Bellingham', 'city': 'Bellingham', 'count': 46611466, 'locations': 3}, {'country': 'US', 'name': 'BELMONT', 'city': 'BELMONT', 'count': 58741844, 'locations': 1}, {'country': 'US', 'name': 'BELTRAMI', 'city': 'BELTRAMI', 'count': 30179649, 'locations': 1}, {'country': 'US', 'name': 'Bend', 'city': 'Bend', 'count': 46505321, 'locations': 2}, {'country': 'US', 'name': 'BENEWAH', 'city': 'BENEWAH', 'count': 47348014, 'locations': 2}, {'country': 'US', 'name': 'Bennington', 'city': 'Bennington', 'count': 56942909, 'locations': 1}, {'country': 'US', 'name': 'BERKELEY', 'city': 'BERKELEY', 'count': 4705, 'locations': 1}, {'country': 'US', 'name': 'BERKS', 'city': 'BERKS', 'count': 21622137, 'locations': 1}, {'country': 'US', 'name': 'BERKSHIRE', 'city': 'BERKSHIRE', 'count': 80690246, 'locations': 3}, {'country': 'US', 'name': 'Berlin', 'city': 'Berlin', 'count': 33073, 'locations': 4}, {'country': 'US', 'name': 'BERNALILLO', 'city': 'BERNALILLO', 'count': 9292, 'locations': 1}, {'country': 'US', 'name': 'BETHEL', 'city': 'BETHEL', 'count': 24152, 'locations': 1}, {'country': 'US', 'name': 'BIG HORN', 'city': 'BIG HORN', 'count': 29588070, 'locations': 1}, {'country': 'US', 'name': 'Billings', 'city': 'Billings', 'count': 8612, 'locations': 1}, {'country': 'US', 'name': 'Birmingham', 'city': 'Birmingham', 'count': 168, 'locations': 1}, {'country': 'US', 'name': 'Birmingham-Hoover', 'city': 'Birmingham-Hoover', 'count': 274745312, 'locations': 12}, {'country': 'US', 'name': 'Bishop', 'city': 'Bishop', 'count': 574959137, 'locations': 19}, {'country': 'US', 'name': 'Blacksburg-Christiansburg-Radford', 'city': 'Blacksburg-Christiansburg-Radford', 'count': 17759, 'locations': 1}, {'country': 'US', 'name': 'BLAINE', 'city': 'BLAINE', 'count': 29171086, 'locations': 1}, {'country': 'US', 'name': 'Bloomington', 'city': 'Bloomington', 'count': 30026060, 'locations': 2}, {'country': 'US', 'name': 'Bloomington-Normal', 'city': 'Bloomington-Normal', 'count': 29611903, 'locations': 1}, {'country': 'US', 'name': 'BOISE', 'city': 'BOISE', 'count': 59877286, 'locations': 2}, {'country': 'US', 'name': 'Boise City-Nampa', 'city': 'Boise City-Nampa', 'count': 266676406, 'locations': 5}, {'country': 'US', 'name': 'BOLIVAR', 'city': 'BOLIVAR', 'count': 30532272, 'locations': 1}, {'country': 'US', 'name': 'BONNER', 'city': 'BONNER', 'count': 57384240, 'locations': 1}, {'country': 'US', 'name': 'Boston', 'city': 'Boston', 'count': 2349, 'locations': 1}, {'country': 'US', 'name': 'Boston-Cambridge-Quincy', 'city': 'Boston-Cambridge-Quincy', 'count': 519326167, 'locations': 19}, {'country': 'US', 'name': 'Boulder', 'city': 'Boulder', 'count': 54944713, 'locations': 2}, {'country': 'US', 'name': 'BOULDER', 'city': 'BOULDER', 'count': 27701453, 'locations': 1}, {'country': 'US', 'name': 'BOUNDARY', 'city': 'BOUNDARY', 'count': 25187401, 'locations': 3}, {'country': 'US', 'name': 'Bowling Green', 'city': 'Bowling Green', 'count': 29557717, 'locations': 1}]}\n",
            "https://api.openaq.org/v1/cities?country=US\n"
          ],
          "name": "stdout"
        }
      ]
    },
    {
      "cell_type": "code",
      "metadata": {
        "colab": {
          "base_uri": "https://localhost:8080/"
        },
        "id": "1IkPnPhVqhXg",
        "outputId": "911aefb9-045b-4ff0-bb42-ea588b89212c"
      },
      "source": [
        "s=requests.get('https://api.openaq.org/v1/cities',params={\"country\":\"US\",\"limit\":10})\n",
        "print(s.status_code)\n",
        "print(s.json())\n",
        "print(s.url)"
      ],
      "execution_count": 26,
      "outputs": [
        {
          "output_type": "stream",
          "text": [
            "200\n",
            "{'meta': {'name': 'openaq-api', 'license': 'CC BY 4.0d', 'website': 'https://u50g7n0cbj.execute-api.us-east-1.amazonaws.com/', 'page': 1, 'limit': 10, 'found': 810}, 'results': [{'country': 'US', 'name': '007', 'city': '007', 'count': 1372, 'locations': 5}, {'country': 'US', 'name': '019', 'city': '019', 'count': 704, 'locations': 1}, {'country': 'US', 'name': '037', 'city': '037', 'count': 2683, 'locations': 23}, {'country': 'US', 'name': '039', 'city': '039', 'count': 380, 'locations': 1}, {'country': 'US', 'name': '047', 'city': '047', 'count': 101, 'locations': 1}, {'country': 'US', 'name': '051', 'city': '051', 'count': 330, 'locations': 7}, {'country': 'US', 'name': '077', 'city': '077', 'count': 670334, 'locations': 1}, {'country': 'US', 'name': 'ABBEVILLE', 'city': 'ABBEVILLE', 'count': 4619, 'locations': 1}, {'country': 'US', 'name': 'Aberdeen', 'city': 'Aberdeen', 'count': 43018851, 'locations': 2}, {'country': 'US', 'name': 'ADA', 'city': 'ADA', 'count': 29956005, 'locations': 2}]}\n",
            "https://api.openaq.org/v1/cities?country=US&limit=10\n"
          ],
          "name": "stdout"
        }
      ]
    },
    {
      "cell_type": "markdown",
      "metadata": {
        "id": "Uu9unFf-reBm"
      },
      "source": [
        "# metaweather"
      ]
    },
    {
      "cell_type": "code",
      "metadata": {
        "colab": {
          "base_uri": "https://localhost:8080/"
        },
        "id": "3Dt17qBrrdOC",
        "outputId": "66aa58bd-4eb7-4bfb-822c-fed7581295ae"
      },
      "source": [
        "q=requests.get('https://www.metaweather.com/api/location/search/')\n",
        "print(q.status_code)\n",
        "\n",
        "# parameter here are compulsory so error 403"
      ],
      "execution_count": 27,
      "outputs": [
        {
          "output_type": "stream",
          "text": [
            "403\n"
          ],
          "name": "stdout"
        }
      ]
    },
    {
      "cell_type": "code",
      "metadata": {
        "colab": {
          "base_uri": "https://localhost:8080/"
        },
        "id": "T1CttuEwxqOD",
        "outputId": "9c30a511-4b07-4c5c-ccab-4c270417a516"
      },
      "source": [
        "q=requests.get('https://www.metaweather.com/api/location/search/',params={\"query\":\"Pune\"})\n",
        "print(q.status_code)\n",
        "print(q.url)\n",
        "print(q.json())"
      ],
      "execution_count": 30,
      "outputs": [
        {
          "output_type": "stream",
          "text": [
            "200\n",
            "https://www.metaweather.com/api/location/search/?query=Pune\n",
            "[{'title': 'Pune', 'location_type': 'City', 'woeid': 2295412, 'latt_long': '18.53611,73.85218'}]\n"
          ],
          "name": "stdout"
        }
      ]
    },
    {
      "cell_type": "code",
      "metadata": {
        "colab": {
          "base_uri": "https://localhost:8080/"
        },
        "id": "P6PeLTMDx-dM",
        "outputId": "78325843-c973-4f34-f9c9-2bc7b1fb6bad"
      },
      "source": [
        "#NASA api\n",
        "\n",
        "a=requests.get('https://api.nasa.gov/planetary/apod',params={\"api_key\":\"DEMO_KEY\"})\n",
        "print(a.status_code)\n",
        "print(a.url)\n",
        "\n",
        "#we cann make our own api key which we can get by singing up on nasa website"
      ],
      "execution_count": 33,
      "outputs": [
        {
          "output_type": "stream",
          "text": [
            "200\n",
            "https://api.nasa.gov/planetary/apod?api_key=DEMO_KEY\n"
          ],
          "name": "stdout"
        }
      ]
    },
    {
      "cell_type": "markdown",
      "metadata": {
        "id": "oUj-fM9o2lNJ"
      },
      "source": [
        "# POST request"
      ]
    },
    {
      "cell_type": "code",
      "metadata": {
        "colab": {
          "base_uri": "https://localhost:8080/"
        },
        "id": "EMv507b22oZ1",
        "outputId": "ae23fa00-8f2e-426f-bf4b-33d845f77034"
      },
      "source": [
        "#dummy website used to make changes\n",
        "\n",
        "import requests\n",
        "response=requests.post('http://httpbin.org/post')\n",
        "print(response)\n",
        "print(response.text)"
      ],
      "execution_count": 34,
      "outputs": [
        {
          "output_type": "stream",
          "text": [
            "<Response [200]>\n",
            "{\n",
            "  \"args\": {}, \n",
            "  \"data\": \"\", \n",
            "  \"files\": {}, \n",
            "  \"form\": {}, \n",
            "  \"headers\": {\n",
            "    \"Accept\": \"*/*\", \n",
            "    \"Accept-Encoding\": \"gzip, deflate\", \n",
            "    \"Content-Length\": \"0\", \n",
            "    \"Host\": \"httpbin.org\", \n",
            "    \"User-Agent\": \"python-requests/2.23.0\", \n",
            "    \"X-Amzn-Trace-Id\": \"Root=1-60ced05f-221b42cf09ace5f6519dbc86\"\n",
            "  }, \n",
            "  \"json\": null, \n",
            "  \"origin\": \"34.72.0.184\", \n",
            "  \"url\": \"http://httpbin.org/post\"\n",
            "}\n",
            "\n"
          ],
          "name": "stdout"
        }
      ]
    },
    {
      "cell_type": "code",
      "metadata": {
        "colab": {
          "base_uri": "https://localhost:8080/"
        },
        "id": "_nPjT8Zi3j3g",
        "outputId": "989542ca-8b08-481a-a98f-4acf38a8eaec"
      },
      "source": [
        "\n",
        "response=requests.post('http://httpbin.org/post',data={'key1':'something',\n",
        "                                                       'key2':'anything'})\n",
        "print(response)\n",
        "print(response.text)"
      ],
      "execution_count": 37,
      "outputs": [
        {
          "output_type": "stream",
          "text": [
            "<Response [200]>\n",
            "{\n",
            "  \"args\": {}, \n",
            "  \"data\": \"\", \n",
            "  \"files\": {}, \n",
            "  \"form\": {\n",
            "    \"key1\": \"something\", \n",
            "    \"key2\": \"anything\"\n",
            "  }, \n",
            "  \"headers\": {\n",
            "    \"Accept\": \"*/*\", \n",
            "    \"Accept-Encoding\": \"gzip, deflate\", \n",
            "    \"Content-Length\": \"28\", \n",
            "    \"Content-Type\": \"application/x-www-form-urlencoded\", \n",
            "    \"Host\": \"httpbin.org\", \n",
            "    \"User-Agent\": \"python-requests/2.23.0\", \n",
            "    \"X-Amzn-Trace-Id\": \"Root=1-60ced0db-437b3fec5a8e817c4e732710\"\n",
            "  }, \n",
            "  \"json\": null, \n",
            "  \"origin\": \"34.72.0.184\", \n",
            "  \"url\": \"http://httpbin.org/post\"\n",
            "}\n",
            "\n"
          ],
          "name": "stdout"
        }
      ]
    },
    {
      "cell_type": "code",
      "metadata": {
        "colab": {
          "base_uri": "https://localhost:8080/"
        },
        "id": "Hcr2eCsI4A8V",
        "outputId": "1bf0293e-9c42-4691-945d-8fb6dc74a3c7"
      },
      "source": [
        "response=requests.post('http://httpbin.org/post',data={'key1':['something','shruti'],\n",
        "                                                       'key2':'anything'})\n",
        "print(response)\n",
        "print(response.text)"
      ],
      "execution_count": 38,
      "outputs": [
        {
          "output_type": "stream",
          "text": [
            "<Response [200]>\n",
            "{\n",
            "  \"args\": {}, \n",
            "  \"data\": \"\", \n",
            "  \"files\": {}, \n",
            "  \"form\": {\n",
            "    \"key1\": [\n",
            "      \"something\", \n",
            "      \"shruti\"\n",
            "    ], \n",
            "    \"key2\": \"anything\"\n",
            "  }, \n",
            "  \"headers\": {\n",
            "    \"Accept\": \"*/*\", \n",
            "    \"Accept-Encoding\": \"gzip, deflate\", \n",
            "    \"Content-Length\": \"40\", \n",
            "    \"Content-Type\": \"application/x-www-form-urlencoded\", \n",
            "    \"Host\": \"httpbin.org\", \n",
            "    \"User-Agent\": \"python-requests/2.23.0\", \n",
            "    \"X-Amzn-Trace-Id\": \"Root=1-60ced10c-2dca88da2307325528108b5d\"\n",
            "  }, \n",
            "  \"json\": null, \n",
            "  \"origin\": \"34.72.0.184\", \n",
            "  \"url\": \"http://httpbin.org/post\"\n",
            "}\n",
            "\n"
          ],
          "name": "stdout"
        }
      ]
    },
    {
      "cell_type": "code",
      "metadata": {
        "colab": {
          "base_uri": "https://localhost:8080/"
        },
        "id": "XRoXPZar4K2Y",
        "outputId": "674fff38-a665-48cb-ff94-1a9c364d7e7f"
      },
      "source": [
        "#same thing but using tuple\n",
        "response=requests.post('http://httpbin.org/post',data=[('key1','something'),('key1','shruti'),('key2','anything')])\n",
        "print(response)\n",
        "print(response.text)"
      ],
      "execution_count": 40,
      "outputs": [
        {
          "output_type": "stream",
          "text": [
            "<Response [200]>\n",
            "{\n",
            "  \"args\": {}, \n",
            "  \"data\": \"\", \n",
            "  \"files\": {}, \n",
            "  \"form\": {\n",
            "    \"key1\": [\n",
            "      \"something\", \n",
            "      \"shruti\"\n",
            "    ], \n",
            "    \"key2\": \"anything\"\n",
            "  }, \n",
            "  \"headers\": {\n",
            "    \"Accept\": \"*/*\", \n",
            "    \"Accept-Encoding\": \"gzip, deflate\", \n",
            "    \"Content-Length\": \"40\", \n",
            "    \"Content-Type\": \"application/x-www-form-urlencoded\", \n",
            "    \"Host\": \"httpbin.org\", \n",
            "    \"User-Agent\": \"python-requests/2.23.0\", \n",
            "    \"X-Amzn-Trace-Id\": \"Root=1-60ced192-73d522be629090333fcb2b41\"\n",
            "  }, \n",
            "  \"json\": null, \n",
            "  \"origin\": \"34.72.0.184\", \n",
            "  \"url\": \"http://httpbin.org/post\"\n",
            "}\n",
            "\n"
          ],
          "name": "stdout"
        }
      ]
    },
    {
      "cell_type": "code",
      "metadata": {
        "colab": {
          "base_uri": "https://localhost:8080/"
        },
        "id": "7OmnJqSK4rta",
        "outputId": "145480cc-31e0-4d66-a672-8bdb2c69bd5b"
      },
      "source": [
        "# one more dummy website\n",
        "\n",
        "r=requests.post('https://jsonplaceholder.typicode.com/posts')\n",
        "print(r)\n",
        "print(r.text)"
      ],
      "execution_count": 41,
      "outputs": [
        {
          "output_type": "stream",
          "text": [
            "<Response [201]>\n",
            "{\n",
            "  \"id\": 101\n",
            "}\n"
          ],
          "name": "stdout"
        }
      ]
    },
    {
      "cell_type": "code",
      "metadata": {
        "colab": {
          "base_uri": "https://localhost:8080/"
        },
        "id": "1BzUJQ0X5aKX",
        "outputId": "7bfb6e1b-95bc-4562-f2fb-7794ed68d2ad"
      },
      "source": [
        "r=requests.post('https://jsonplaceholder.typicode.com/posts',data={'USERID':6,id:456,'title':'exam'})\n",
        "print(r)\n",
        "print(r.text)"
      ],
      "execution_count": 42,
      "outputs": [
        {
          "output_type": "stream",
          "text": [
            "<Response [201]>\n",
            "{\n",
            "  \"USERID\": \"6\",\n",
            "  \"<built-in function id>\": \"456\",\n",
            "  \"title\": \"exam\",\n",
            "  \"id\": 101\n",
            "}\n"
          ],
          "name": "stdout"
        }
      ]
    }
  ]
}