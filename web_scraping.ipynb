{
  "nbformat": 4,
  "nbformat_minor": 0,
  "metadata": {
    "colab": {
      "name": "web_scraping.ipynb",
      "provenance": [],
      "authorship_tag": "ABX9TyMfOGneFTB4I3IuvtM4czV/",
      "include_colab_link": true
    },
    "kernelspec": {
      "name": "python3",
      "display_name": "Python 3"
    },
    "language_info": {
      "name": "python"
    }
  },
  "cells": [
    {
      "cell_type": "markdown",
      "metadata": {
        "id": "view-in-github",
        "colab_type": "text"
      },
      "source": [
        "<a href=\"https://colab.research.google.com/github/ShrutiPandey27/machine_learning_practice/blob/main/web_scraping.ipynb\" target=\"_parent\"><img src=\"https://colab.research.google.com/assets/colab-badge.svg\" alt=\"Open In Colab\"/></a>"
      ]
    },
    {
      "cell_type": "markdown",
      "metadata": {
        "id": "LpfsouAjrcx9"
      },
      "source": [
        "# web scraping\n",
        "\n",
        "extract the large amount data of any website in structured form .this saves a lot of time because we get a lot of data in structured form.\n",
        "\n",
        "#how to scrap\n",
        "1.using api\n",
        "\n",
        "\n",
        "\n",
        "\n",
        "\n",
        "\n",
        "2.of website doesnt have its api we extract the data using their html page."
      ]
    },
    {
      "cell_type": "markdown",
      "metadata": {
        "id": "mjJev1gNsIaA"
      },
      "source": [
        "# python libaries for web scraping:\n",
        "\n",
        "\n",
        "*  requests \n",
        "*  html5lib\n",
        "* bs4\n",
        "\n",
        "uses\n",
        "1.price analysis\n",
        "\n",
        "2.job listing\n",
        "\n",
        "3.research and development\n",
        "\n",
        "4.email address gathering\n",
        "\n"
      ]
    },
    {
      "cell_type": "markdown",
      "metadata": {
        "id": "JeXIpKwbtQ_f"
      },
      "source": [
        "#steps:\n",
        "1.find url\n",
        "\n",
        "2.inspecting page\n",
        "\n",
        "3.find data you want to extract\n",
        "\n",
        "4.code\n",
        "\n",
        "5.execute code\n",
        "\n",
        "6.store data"
      ]
    },
    {
      "cell_type": "code",
      "metadata": {
        "id": "de6tvx9NrT7t"
      },
      "source": [
        "from bs4 import BeautifulSoup\n",
        "import requests\n",
        "import pandas as pd"
      ],
      "execution_count": 2,
      "outputs": []
    },
    {
      "cell_type": "code",
      "metadata": {
        "id": "N49mjZT3sihs"
      },
      "source": [
        "url=\"https://www.flipkart.com/laptops/pr?sid=6bo,b5g&otracker=categorytree&fm=neo%2Fmerchandising&iid=M_8e1ffc65-c776-44eb-8409-d106d34cd7f1_1_372UD5BXDFYS_MC.34WHNYFH5V2Y&otracker=hp_rich_navigation_7_1.navigationCard.RICH_NAVIGATION_Electronics~Laptop%2Band%2BDesktop_34WHNYFH5V2Y&otracker1=hp_rich_navigation_PINNED_neo%2Fmerchandising_NA_NAV_EXPANDABLE_navigationCard_cc_7_L1_view-all&cid=34WHNYFH5V2Y\""
      ],
      "execution_count": 4,
      "outputs": []
    },
    {
      "cell_type": "code",
      "metadata": {
        "colab": {
          "base_uri": "https://localhost:8080/"
        },
        "id": "I3e5Er1wsimY",
        "outputId": "9d57b479-ba4a-47c8-9232-cd888c16e75a"
      },
      "source": [
        "response=requests.get(url)\n",
        "print(response)\n",
        "htmlcontent=response.content"
      ],
      "execution_count": 9,
      "outputs": [
        {
          "output_type": "stream",
          "text": [
            "<Response [200]>\n"
          ],
          "name": "stdout"
        }
      ]
    },
    {
      "cell_type": "code",
      "metadata": {
        "id": "8zTLjp01vfio"
      },
      "source": [
        "soup=BeautifulSoup(htmlcontent,\"html.parser\")\n",
        "print(soup.prettify)"
      ],
      "execution_count": null,
      "outputs": []
    },
    {
      "cell_type": "code",
      "metadata": {
        "id": "NmOusL0cxsZQ"
      },
      "source": [
        "# if i just want to know about name of laptop,price of laptop and rating"
      ],
      "execution_count": null,
      "outputs": []
    }
  ]
}