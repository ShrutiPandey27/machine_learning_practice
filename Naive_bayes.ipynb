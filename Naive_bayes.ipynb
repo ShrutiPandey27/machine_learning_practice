{
  "nbformat": 4,
  "nbformat_minor": 0,
  "metadata": {
    "colab": {
      "name": "Naive_bayes.ipynb",
      "provenance": [],
      "authorship_tag": "ABX9TyPdvff2T58VMNnU4ikrFlZy",
      "include_colab_link": true
    },
    "kernelspec": {
      "name": "python3",
      "display_name": "Python 3"
    },
    "language_info": {
      "name": "python"
    }
  },
  "cells": [
    {
      "cell_type": "markdown",
      "metadata": {
        "id": "view-in-github",
        "colab_type": "text"
      },
      "source": [
        "<a href=\"https://colab.research.google.com/github/ShrutiPandey27/machine_learning_practice/blob/main/Naive_bayes.ipynb\" target=\"_parent\"><img src=\"https://colab.research.google.com/assets/colab-badge.svg\" alt=\"Open In Colab\"/></a>"
      ]
    },
    {
      "cell_type": "markdown",
      "metadata": {
        "id": "LOOMI5nKhyCt"
      },
      "source": [
        "# Naive bayes classifier\n",
        "\n",
        "* this algorithm is based on BAYES theorem\n",
        "* simple probability =eg. probability of head is 1/2 and probablity of king is 1/13\n",
        "* conditional probability= eg. card is random card,and diamond  ->p(king/diamond)=1/13 = p(a/b) where b has already occured.\n",
        "* p(a/b)={[p(b/a)*p(a)]/p(b)}\n",
        "* naive bayes = probabilistic classified\n",
        "* every feature is independent of other\n",
        "* every feature has its own contribution like apple has its own color,shape,taste,smell,vitamins and minerals,price,etc\n",
        "* it is mainly used for classification.\n",
        "* used for text classification,spam filtering,sentiment analysis,classify articles.\n",
        "\n"
      ]
    },
    {
      "cell_type": "code",
      "metadata": {
        "id": "vUpCXYLqhtSN"
      },
      "source": [
        ""
      ],
      "execution_count": null,
      "outputs": []
    }
  ]
}