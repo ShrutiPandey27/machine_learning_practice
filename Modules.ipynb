{
  "nbformat": 4,
  "nbformat_minor": 0,
  "metadata": {
    "colab": {
      "name": "Modules.ipynb",
      "provenance": [],
      "authorship_tag": "ABX9TyMIIC6wNUB2ElaDXd3lYBlR",
      "include_colab_link": true
    },
    "kernelspec": {
      "name": "python3",
      "display_name": "Python 3"
    },
    "language_info": {
      "name": "python"
    }
  },
  "cells": [
    {
      "cell_type": "markdown",
      "metadata": {
        "id": "view-in-github",
        "colab_type": "text"
      },
      "source": [
        "<a href=\"https://colab.research.google.com/github/ShrutiPandey27/machine_learning_practice/blob/main/Modules.ipynb\" target=\"_parent\"><img src=\"https://colab.research.google.com/assets/colab-badge.svg\" alt=\"Open In Colab\"/></a>"
      ]
    },
    {
      "cell_type": "markdown",
      "metadata": {
        "id": "SKRhNYJY7aO_"
      },
      "source": [
        "#python modules\n",
        "\n",
        "it allows to logically organize python code and define functions,classes and variables"
      ]
    },
    {
      "cell_type": "code",
      "metadata": {
        "colab": {
          "base_uri": "https://localhost:8080/"
        },
        "id": "elCsgKse7HyC",
        "outputId": "3fd96e9b-ade6-42bc-8221-2b7508029b92"
      },
      "source": [
        "\n",
        "\n",
        "import math\n",
        "a=math.sqrt(36)\n",
        "print(a)\n",
        "\n",
        "\n",
        "import calendar\n",
        "print(dir(calendar))"
      ],
      "execution_count": null,
      "outputs": [
        {
          "output_type": "stream",
          "text": [
            "6.0\n",
            "['Calendar', 'EPOCH', 'FRIDAY', 'February', 'HTMLCalendar', 'IllegalMonthError', 'IllegalWeekdayError', 'January', 'LocaleHTMLCalendar', 'LocaleTextCalendar', 'MONDAY', 'SATURDAY', 'SUNDAY', 'THURSDAY', 'TUESDAY', 'TextCalendar', 'WEDNESDAY', '_EPOCH_ORD', '__all__', '__builtins__', '__cached__', '__doc__', '__file__', '__loader__', '__name__', '__package__', '__spec__', '_colwidth', '_locale', '_localized_day', '_localized_month', '_spacing', 'c', 'calendar', 'datetime', 'day_abbr', 'day_name', 'different_locale', 'error', 'firstweekday', 'format', 'formatstring', 'isleap', 'leapdays', 'main', 'mdays', 'month', 'month_abbr', 'month_name', 'monthcalendar', 'monthlen', 'monthrange', 'nextmonth', 'prcal', 'prevmonth', 'prmonth', 'prweek', 'repeat', 'setfirstweekday', 'sys', 'timegm', 'week', 'weekday', 'weekheader']\n"
          ],
          "name": "stdout"
        }
      ]
    },
    {
      "cell_type": "code",
      "metadata": {
        "colab": {
          "base_uri": "https://localhost:8080/"
        },
        "id": "zpON_8WaD5TA",
        "outputId": "5fa17d89-c39a-41fb-e50a-75e855b9ba73"
      },
      "source": [
        "calendar.isleap(2020)"
      ],
      "execution_count": null,
      "outputs": [
        {
          "output_type": "execute_result",
          "data": {
            "text/plain": [
              "True"
            ]
          },
          "metadata": {
            "tags": []
          },
          "execution_count": 4
        }
      ]
    },
    {
      "cell_type": "code",
      "metadata": {
        "colab": {
          "base_uri": "https://localhost:8080/"
        },
        "id": "tFtyCYCjD5Yo",
        "outputId": "16fd33a6-efe2-4002-b8b5-72ca3e8ba93b"
      },
      "source": [
        "help('modules')"
      ],
      "execution_count": null,
      "outputs": [
        {
          "output_type": "stream",
          "text": [
            "\n",
            "Please wait a moment while I gather a list of all available modules...\n",
            "\n"
          ],
          "name": "stdout"
        },
        {
          "output_type": "stream",
          "text": [
            "/usr/local/lib/python3.7/dist-packages/IPython/kernel/__init__.py:13: ShimWarning: The `IPython.kernel` package has been deprecated since IPython 4.0.You should import from ipykernel or jupyter_client instead.\n",
            "  \"You should import from ipykernel or jupyter_client instead.\", ShimWarning)\n",
            "WARNING: AstropyDeprecationWarning: The private astropy._erfa module has been made into its own package, pyerfa, which is a dependency of astropy and can be imported directly using \"import erfa\" [astropy._erfa]\n",
            "/usr/local/lib/python3.7/dist-packages/datascience/tables.py:17: MatplotlibDeprecationWarning:\n",
            "\n",
            "The 'warn' parameter of use() is deprecated since Matplotlib 3.1 and will be removed in 3.3.  If any parameter follows 'warn', they should be pass as keyword, not positionally.\n",
            "\n",
            "/usr/local/lib/python3.7/dist-packages/datascience/util.py:10: MatplotlibDeprecationWarning:\n",
            "\n",
            "The 'warn' parameter of use() is deprecated since Matplotlib 3.1 and will be removed in 3.3.  If any parameter follows 'warn', they should be pass as keyword, not positionally.\n",
            "\n",
            "/usr/local/lib/python3.7/dist-packages/sklearn/externals/six.py:31: FutureWarning:\n",
            "\n",
            "The module is deprecated in version 0.21 and will be removed in version 0.23 since we've dropped support for Python 2.7. Please rely on the official version of six (https://pypi.org/project/six/).\n",
            "\n",
            "/usr/local/lib/python3.7/dist-packages/sklearn/utils/deprecation.py:144: FutureWarning:\n",
            "\n",
            "The sklearn.neighbors.base module is  deprecated in version 0.22 and will be removed in version 0.24. The corresponding classes / functions should instead be imported from sklearn.neighbors. Anything that cannot be imported from sklearn.neighbors is now part of the private API.\n",
            "\n",
            "/usr/local/lib/python3.7/dist-packages/sklearn/utils/deprecation.py:144: FutureWarning:\n",
            "\n",
            "The sklearn.datasets.base module is  deprecated in version 0.22 and will be removed in version 0.24. The corresponding classes / functions should instead be imported from sklearn.datasets. Anything that cannot be imported from sklearn.datasets is now part of the private API.\n",
            "\n",
            "/usr/local/lib/python3.7/dist-packages/sklearn/utils/deprecation.py:144: FutureWarning:\n",
            "\n",
            "The sklearn.ensemble.bagging module is  deprecated in version 0.22 and will be removed in version 0.24. The corresponding classes / functions should instead be imported from sklearn.ensemble. Anything that cannot be imported from sklearn.ensemble is now part of the private API.\n",
            "\n",
            "/usr/local/lib/python3.7/dist-packages/sklearn/utils/deprecation.py:144: FutureWarning:\n",
            "\n",
            "The sklearn.ensemble.base module is  deprecated in version 0.22 and will be removed in version 0.24. The corresponding classes / functions should instead be imported from sklearn.ensemble. Anything that cannot be imported from sklearn.ensemble is now part of the private API.\n",
            "\n",
            "/usr/local/lib/python3.7/dist-packages/sklearn/utils/deprecation.py:144: FutureWarning:\n",
            "\n",
            "The sklearn.ensemble.forest module is  deprecated in version 0.22 and will be removed in version 0.24. The corresponding classes / functions should instead be imported from sklearn.ensemble. Anything that cannot be imported from sklearn.ensemble is now part of the private API.\n",
            "\n",
            "/usr/local/lib/python3.7/dist-packages/sklearn/externals/joblib/__init__.py:15: FutureWarning:\n",
            "\n",
            "sklearn.externals.joblib is deprecated in 0.21 and will be removed in 0.23. Please import this functionality directly from joblib, which can be installed with: pip install joblib. If this warning is raised when loading pickled models, you may need to re-serialize those models with scikit-learn 0.21+.\n",
            "\n",
            "/usr/local/lib/python3.7/dist-packages/sklearn/utils/deprecation.py:144: FutureWarning:\n",
            "\n",
            "The sklearn.metrics.classification module is  deprecated in version 0.22 and will be removed in version 0.24. The corresponding classes / functions should instead be imported from sklearn.metrics. Anything that cannot be imported from sklearn.metrics is now part of the private API.\n",
            "\n",
            "/usr/local/lib/python3.7/dist-packages/sklearn/utils/deprecation.py:144: FutureWarning:\n",
            "\n",
            "The sklearn.utils.testing module is  deprecated in version 0.22 and will be removed in version 0.24. The corresponding classes / functions should instead be imported from sklearn.utils. Anything that cannot be imported from sklearn.utils is now part of the private API.\n",
            "\n"
          ],
          "name": "stderr"
        },
        {
          "output_type": "stream",
          "text": [
            "Downloading http://dlib.net/files/shape_predictor_68_face_landmarks.dat.bz2 to /root/mlxtend_data/shape_predictor_68_face_landmarks.dat.bz2\n"
          ],
          "name": "stdout"
        },
        {
          "output_type": "stream",
          "text": [
            "/usr/lib/python3.7/pkgutil.py:92: UserWarning:\n",
            "\n",
            "The DICOM readers are highly experimental, unstable, and only work for Siemens time-series at the moment\n",
            "Please use with caution.  We would be grateful for your help in improving them\n",
            "\n",
            "/usr/local/lib/python3.7/dist-packages/nltk/twitter/__init__.py:20: UserWarning:\n",
            "\n",
            "The twython library has not been installed. Some functionality from the twitter package will not be available.\n",
            "\n",
            "/usr/local/lib/python3.7/dist-packages/psycopg2/__init__.py:144: UserWarning:\n",
            "\n",
            "The psycopg2 wheel package will be renamed from release 2.8; in order to keep installing from binary please use \"pip install psycopg2-binary\" instead. For details see: <http://initd.org/psycopg/docs/install.html#binary-install-from-pypi>.\n",
            "\n",
            "WARNING:pystan:This submodule contains experimental code, please use with caution\n"
          ],
          "name": "stderr"
        },
        {
          "output_type": "stream",
          "text": [
            "No CUDA runtime is found, using CUDA_HOME='/usr/local/cuda'\n",
            "Cython              colorsys            kapre               re\n",
            "IPython             community           keras               readline\n",
            "OpenGL              compileall          keras_preprocessing regex\n",
            "PIL                 concurrent          keyword             reprlib\n",
            "ScreenResolution    configparser        kiwisolver          requests\n",
            "__future__          contextlib          korean_lunar_calendar requests_oauthlib\n",
            "_abc                contextlib2         lib2to3             resampy\n",
            "_ast                contextvars         libfuturize         resource\n",
            "_asyncio            convertdate         libpasteurize       retrying\n",
            "_bisect             copy                librosa             rlcompleter\n",
            "_blake2             copyreg             lightgbm            rmagic\n",
            "_bootlocale         coverage            linecache           rpy2\n",
            "_bz2                coveralls           llvmlite            rsa\n",
            "_cffi_backend       crcmod              lmdb                runpy\n",
            "_codecs             crypt               locale              samples\n",
            "_codecs_cn          csv                 logging             sched\n",
            "_codecs_hk          ctypes              lsb_release         scipy\n",
            "_codecs_iso2022     cufflinks           lunarcalendar       scs\n",
            "_codecs_jp          curses              lxml                seaborn\n",
            "_codecs_kr          cv2                 lzma                secrets\n",
            "_codecs_tw          cvxopt              macpath             select\n",
            "_collections        cvxpy               mailbox             selectors\n",
            "_collections_abc    cycler              mailcap             semver\n",
            "_compat_pickle      cymem               markdown            send2trash\n",
            "_compression        cython              markupsafe          setuptools\n",
            "_contextvars        cythonmagic         marshal             setuptools_git\n",
            "_crypt              daft                math                shapely\n",
            "_csv                dask                matplotlib          shelve\n",
            "_ctypes             dataclasses         matplotlib_inline   shlex\n",
            "_ctypes_test        datascience         matplotlib_venn     shutil\n",
            "_curses             datetime            mimetypes           signal\n",
            "_curses_panel       dateutil            missingno           simplegeneric\n",
            "_cvxcore            dbm                 mistune             site\n",
            "_datetime           dbus                mizani              sitecustomize\n",
            "_dbm                debugpy             mlxtend             six\n",
            "_decimal            decimal             mmap                skimage\n",
            "_distutils_hack     decorator           modulefinder        sklearn\n",
            "_dummy_thread       defusedxml          more_itertools      sklearn_pandas\n",
            "_ecos               descartes           moviepy             slugify\n",
            "_elementtree        difflib             mpmath              smart_open\n",
            "_functools          dill                msgpack             smtpd\n",
            "_hashlib            dis                 multiprocess        smtplib\n",
            "_heapq              distributed         multiprocessing     sndhdr\n",
            "_imp                distutils           multitasking        snowballstemmer\n",
            "_io                 dlib                murmurhash          socket\n",
            "_json               docopt              music21             socketserver\n",
            "_locale             docs                natsort             socks\n",
            "_lsprof             doctest             nbclient            sockshandler\n",
            "_lzma               docutils            nbconvert           softwareproperties\n",
            "_markupbase         dopamine            nbformat            sortedcontainers\n",
            "_md5                dot_parser          nest_asyncio        soundfile\n",
            "_multibytecodec     dummy_threading     netCDF4             spacy\n",
            "_multiprocess       easydict            netrc               sphinx\n",
            "_multiprocessing    ecos                networkx            spwd\n",
            "_opcode             editdistance        nibabel             sql\n",
            "_operator           ee                  nis                 sqlalchemy\n",
            "_osx_support        email               nisext              sqlite3\n",
            "_pickle             en_core_web_sm      nltk                sqlparse\n",
            "_plotly_future_     encodings           nntplib             sre_compile\n",
            "_plotly_utils       entrypoints         notebook            sre_constants\n",
            "_posixsubprocess    enum                ntpath              sre_parse\n",
            "_py_abc             ephem               nturl2path          srsly\n",
            "_pydecimal          erfa                numba               ssl\n",
            "_pyio               errno               numbergen           stat\n",
            "_pyrsistent_version et_xmlfile          numbers             statistics\n",
            "_pytest             examples            numexpr             statsmodels\n",
            "_queue              fa2                 numpy               storemagic\n",
            "_random             fastai              nvidia_smi          string\n",
            "_rinterface_cffi_abi fastdtw             oauth2client        stringprep\n",
            "_rinterface_cffi_api fastprogress        oauthlib            struct\n",
            "_scs_direct         fastrlock           ogr                 subprocess\n",
            "_scs_indirect       faulthandler        okgrade             sunau\n",
            "_scs_python         fbprophet           opcode              symbol\n",
            "_sha1               fcntl               openpyxl            sympy\n",
            "_sha256             feather             operator            sympyprinting\n",
            "_sha3               filecmp             opt_einsum          symtable\n",
            "_sha512             fileinput           optparse            sys\n",
            "_signal             filelock            os                  sysconfig\n",
            "_sitebuiltins       firebase_admin      osgeo               syslog\n",
            "_socket             fix_yahoo_finance   osqp                tables\n",
            "_soundfile          flask               osqppurepy          tabnanny\n",
            "_sqlite3            flatbuffers         osr                 tabulate\n",
            "_sre                fnmatch             ossaudiodev         tarfile\n",
            "_ssl                folium              packaging           tblib\n",
            "_stat               formatter           palettable          telnetlib\n",
            "_string             fractions           pandas              tempfile\n",
            "_strptime           ftplib              pandas_datareader   tensorboard\n",
            "_struct             functools           pandas_gbq          tensorboard_data_server\n",
            "_symtable           future              pandas_profiling    tensorboard_plugin_wit\n",
            "_sysconfigdata_m_linux_x86_64-linux-gnu gast                pandocfilters       tensorflow\n",
            "_testbuffer         gc                  panel               tensorflow_datasets\n",
            "_testcapi           gdal                param               tensorflow_estimator\n",
            "_testimportmultiple gdalconst           parser              tensorflow_gcs_config\n",
            "_testmultiphase     gdalnumeric         parso               tensorflow_hub\n",
            "_thread             gdown               past                tensorflow_metadata\n",
            "_threading_local    genericpath         pasta               tensorflow_probability\n",
            "_tkinter            gensim              pathlib             termcolor\n",
            "_tracemalloc        geographiclib       patsy               terminado\n",
            "_warnings           geopy               pdb                 termios\n",
            "_weakref            getopt              pexpect             test\n",
            "_weakrefset         getpass             pickle              testpath\n",
            "_xxtestfuzz         gettext             pickleshare         tests\n",
            "abc                 gi                  pickletools         text_unidecode\n",
            "absl                gin                 pip                 textblob\n",
            "aifc                github2pypi         pipes               textwrap\n",
            "alabaster           glob                piptools            theano\n",
            "albumentations      glob2               pkg_resources       thinc\n",
            "altair              gnm                 pkgutil             this\n",
            "antigravity         google_auth_httplib2 plac                threading\n",
            "apiclient           google_auth_oauthlib plac_core           tifffile\n",
            "appdirs             google_drive_downloader plac_ext            time\n",
            "apt                 googleapiclient     plac_tk             timeit\n",
            "apt_inst            googlesearch        platform            tkinter\n",
            "apt_pkg             graphviz            plistlib            tlz\n",
            "aptsources          greenlet            plotly              token\n",
            "argon2              gridfs              plotlywidget        tokenize\n",
            "argparse            grp                 plotnine            toml\n",
            "array               grpc                pluggy              toolz\n",
            "arviz               gspread             pooch               torch\n",
            "ast                 gspread_dataframe   poplib              torchsummary\n",
            "astor               gym                 portpicker          torchtext\n",
            "astropy             gzip                posix               torchvision\n",
            "astunparse          h5py                posixpath           tornado\n",
            "async_generator     hashlib             pprint              tqdm\n",
            "asynchat            heapdict            prefetch_generator  trace\n",
            "asyncio             heapq               preshed             traceback\n",
            "asyncore            hijri_converter     prettytable         tracemalloc\n",
            "atari_py            hmac                profile             traitlets\n",
            "atexit              holidays            progressbar         tree\n",
            "atomicwrites        holoviews           prometheus_client   tty\n",
            "attr                html                promise             turtle\n",
            "audioop             html5lib            prompt_toolkit      tweepy\n",
            "audioread           http                pstats              typeguard\n",
            "autograd            httpimport          psutil              types\n",
            "autoreload          httplib2            psycopg2            typing\n",
            "babel               httplib2shim        pty                 typing_extensions\n",
            "backcall            humanize            ptyprocess          tzlocal\n",
            "base64              hyperopt            pvectorc            unicodedata\n",
            "bdb                 ideep4py            pwd                 unittest\n",
            "bin                 idna                py                  uritemplate\n",
            "binascii            imageio             py_compile          urllib\n",
            "binhex              imagesize           pyarrow             urllib3\n",
            "bisect              imaplib             pyasn1              uu\n",
            "bleach              imblearn            pyasn1_modules      uuid\n",
            "blis                imgaug              pyclbr              vega_datasets\n",
            "bokeh               imghdr              pycocotools         venv\n",
            "boost               imp                 pycparser           vis\n",
            "bottleneck          importlib           pyct                warnings\n",
            "branca              importlib_metadata  pydata_google_auth  wasabi\n",
            "bs4                 importlib_resources pydoc               wave\n",
            "bson                imutils             pydoc_data          wcwidth\n",
            "builtins            inflect             pydot               weakref\n",
            "bz2                 iniconfig           pydot_ng            webbrowser\n",
            "cProfile            inspect             pydotplus           webencodings\n",
            "cachecontrol        install             pydrive             werkzeug\n",
            "cached_property     intervaltree        pyemd               wheel\n",
            "cachetools          io                  pyexpat             widgetsnbextension\n",
            "caffe2              ipaddress           pyglet              wordcloud\n",
            "calendar            ipykernel           pygments            wrapt\n",
            "catalogue           ipykernel_launcher  pygtkcompat         wsgiref\n",
            "certifi             ipython_genutils    pylab               xarray\n",
            "cffi                ipywidgets          pymc3               xdrlib\n",
            "cftime              isympy              pymeeus             xgboost\n",
            "cgi                 itertools           pymongo             xkit\n",
            "cgitb               itsdangerous        pymystem3           xlrd\n",
            "chardet             jax                 pynvml              xlwt\n",
            "chess               jaxlib              pyparsing           xml\n",
            "chunk               jdcal               pyrsistent          xmlrpc\n",
            "click               jedi                pysndfile           xxlimited\n",
            "client              jieba               pystan              xxsubtype\n",
            "cloudpickle         jinja2              pytest              yaml\n",
            "cmake               joblib              python_utils        yellowbrick\n",
            "cmath               jpeg4py             pytz                zict\n",
            "cmd                 json                pyviz_comms         zipapp\n",
            "cmdstanpy           jsonschema          pywt                zipfile\n",
            "code                jupyter             pyximport           zipimport\n",
            "codecs              jupyter_client      qdldl               zipp\n",
            "codeop              jupyter_console     qtconsole           zlib\n",
            "colab               jupyter_core        qtpy                zmq\n",
            "collections         jupyterlab_pygments queue               \n",
            "colorcet            jupyterlab_widgets  quopri              \n",
            "colorlover          kaggle              random              \n",
            "\n",
            "Enter any module name to get more help.  Or, type \"modules spam\" to search\n",
            "for modules whose name or summary contain the string \"spam\".\n",
            "\n"
          ],
          "name": "stdout"
        }
      ]
    },
    {
      "cell_type": "code",
      "metadata": {
        "id": "XBV0AqQRD5fE",
        "colab": {
          "base_uri": "https://localhost:8080/"
        },
        "outputId": "7ae7777c-a68f-4ceb-c168-be7e2fd561a2"
      },
      "source": [
        "import calc as a\n",
        "p=10\n",
        "q=20\n",
        "\n",
        "addition=a.add(p,q)\n",
        "print(addition)"
      ],
      "execution_count": 3,
      "outputs": [
        {
          "output_type": "stream",
          "text": [
            "30\n"
          ],
          "name": "stdout"
        }
      ]
    },
    {
      "cell_type": "code",
      "metadata": {
        "id": "U4kqBLYyLevT",
        "colab": {
          "base_uri": "https://localhost:8080/"
        },
        "outputId": "b4552148-0963-4526-a878-e3ce676ca91d"
      },
      "source": [
        "#other way to import from a module\n",
        "\n",
        "from calc import *\n",
        "p=20\n",
        "q=48\n",
        "print(add(p,q))"
      ],
      "execution_count": 4,
      "outputs": [
        {
          "output_type": "stream",
          "text": [
            "68\n"
          ],
          "name": "stdout"
        }
      ]
    },
    {
      "cell_type": "code",
      "metadata": {
        "id": "z3jZzlKLLe1U",
        "colab": {
          "base_uri": "https://localhost:8080/"
        },
        "outputId": "b38984ec-d3ce-4872-935f-c3d94a8b1c7f"
      },
      "source": [
        "import sys \n",
        "print(sys.path)"
      ],
      "execution_count": 5,
      "outputs": [
        {
          "output_type": "stream",
          "text": [
            "['', '/content', '/env/python', '/usr/lib/python37.zip', '/usr/lib/python3.7', '/usr/lib/python3.7/lib-dynload', '/usr/local/lib/python3.7/dist-packages', '/usr/lib/python3/dist-packages', '/usr/local/lib/python3.7/dist-packages/IPython/extensions', '/root/.ipython', '/tmp/tmpf7p7hya4']\n"
          ],
          "name": "stdout"
        }
      ]
    },
    {
      "cell_type": "markdown",
      "metadata": {
        "id": "SI3Si9n1PEuD"
      },
      "source": [
        "# class and object"
      ]
    },
    {
      "cell_type": "code",
      "metadata": {
        "id": "-qxltqLFLe9l",
        "colab": {
          "base_uri": "https://localhost:8080/"
        },
        "outputId": "1ca7be45-5113-4f12-eb23-3a65a4611860"
      },
      "source": [
        "class human:\n",
        "  age =29\n",
        "\n",
        "  def speak(self):\n",
        "    print(\"hello\")\n",
        "\n",
        "print(human.age)\n",
        "print(human.speak)\n",
        "\n",
        "shruti=human()\n",
        "\n",
        "shruti.speak()\n",
        "\n"
      ],
      "execution_count": 13,
      "outputs": [
        {
          "output_type": "stream",
          "text": [
            "29\n",
            "<function human.speak at 0x7f3c2e00aa70>\n",
            "hello\n"
          ],
          "name": "stdout"
        }
      ]
    },
    {
      "cell_type": "code",
      "metadata": {
        "colab": {
          "base_uri": "https://localhost:8080/"
        },
        "id": "SUOIssPwPhBP",
        "outputId": "1be2884a-b6d1-4109-b9f3-63232d2f663a"
      },
      "source": [
        "class Employee:\n",
        "  def __init__(self,name,id):\n",
        "    self.id=id\n",
        "    self.name=name\n",
        "\n",
        "  def display(self):\n",
        "    print(\"Namr is %s ID :%d\"%(self.name,self.id))\n",
        "\n",
        "emp1=Employee(\"hii\",234)\n",
        "emp2=Employee(\"sii\",4546)\n",
        "emp1.display()\n",
        "emp2.display()\n",
        "print(emp1.__doc__)"
      ],
      "execution_count": 18,
      "outputs": [
        {
          "output_type": "stream",
          "text": [
            "Namr is hii ID :234\n",
            "Namr is sii ID :4546\n",
            "None\n"
          ],
          "name": "stdout"
        }
      ]
    },
    {
      "cell_type": "code",
      "metadata": {
        "colab": {
          "base_uri": "https://localhost:8080/"
        },
        "id": "Xqlypa4lSIJ2",
        "outputId": "25aea9e8-64f7-41d9-9f2c-0915e31b0f17"
      },
      "source": [
        "class employee:\n",
        "  id=2345\n",
        "  name=\"gii\"\n",
        "\n",
        "  def display(self):\n",
        "    print(self.id,self.name)\n",
        "\n",
        "emp=employee()\n",
        "emp.display()"
      ],
      "execution_count": 17,
      "outputs": [
        {
          "output_type": "stream",
          "text": [
            "2345 gii\n"
          ],
          "name": "stdout"
        }
      ]
    }
  ]
}