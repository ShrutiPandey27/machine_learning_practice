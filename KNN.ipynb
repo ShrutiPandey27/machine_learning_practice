{
  "nbformat": 4,
  "nbformat_minor": 0,
  "metadata": {
    "colab": {
      "name": "KNN.ipynb",
      "provenance": [],
      "authorship_tag": "ABX9TyOrih8u+f50g02+hcXHEFuR",
      "include_colab_link": true
    },
    "kernelspec": {
      "name": "python3",
      "display_name": "Python 3"
    },
    "language_info": {
      "name": "python"
    }
  },
  "cells": [
    {
      "cell_type": "markdown",
      "metadata": {
        "id": "view-in-github",
        "colab_type": "text"
      },
      "source": [
        "<a href=\"https://colab.research.google.com/github/ShrutiPandey27/machine_learning_practice/blob/main/KNN.ipynb\" target=\"_parent\"><img src=\"https://colab.research.google.com/assets/colab-badge.svg\" alt=\"Open In Colab\"/></a>"
      ]
    },
    {
      "cell_type": "markdown",
      "metadata": {
        "id": "DjqMqwtruxc0"
      },
      "source": [
        "#KNN->K-Nearest Neighbor algorithm\n",
        " \n",
        "* it is supervised machiene learning algorithm\n",
        "* simple algorithm and works over similarities.\n",
        "* store complete data as training data\n",
        "* can be used for classification and regression.\n",
        "*  non parametric :it doesn't make any assumption \n",
        "* lazy learner:there is no training phase.it memorizes the things when it gets new datasets/new points and it calculates label and classifies based on more similarities.\n",
        "* used for large data\n",
        "* finding k value is difficult.(generally done by hit and trial method)\n",
        "\n"
      ]
    },
    {
      "cell_type": "markdown",
      "metadata": {
        "id": "X7Gx53wSzyS9"
      },
      "source": [
        "suppose we have 2 categories:A,B\n",
        "\n",
        "**steps**:\n",
        "\n",
        "\n",
        "1.find out k i.e., no. of neighbours\n",
        "\n",
        "\n",
        "2.calculate euclidean(few other distance are also there) instance.\n",
        "\n",
        "\n",
        "3.find the neighbours (maybe 5 or 10)with minimum distance.\n",
        "\n",
        "4.compare those neighbours with both categories.\n",
        "\n",
        "5.select category that has more number of neighbour."
      ]
    },
    {
      "cell_type": "code",
      "metadata": {
        "id": "fH_2xVzLzyC9"
      },
      "source": [
        "#k fold cross validation used to find out which algorithm is best fit for our dataset based on the performance.\n",
        "\n",
        "import sklearn\n",
        "import pandas as pd\n",
        "import numpy as np\n"
      ],
      "execution_count": 1,
      "outputs": []
    },
    {
      "cell_type": "code",
      "metadata": {
        "id": "k24cSz9OuukY",
        "colab": {
          "base_uri": "https://localhost:8080/"
        },
        "outputId": "7c98b8ba-a42b-4091-cdef-d2ce156a34ff"
      },
      "source": [
        "from sklearn.datasets import load_iris\n",
        "iris=load_iris()\n",
        "iris.keys()\n"
      ],
      "execution_count": 2,
      "outputs": [
        {
          "output_type": "execute_result",
          "data": {
            "text/plain": [
              "dict_keys(['data', 'target', 'target_names', 'DESCR', 'feature_names', 'filename'])"
            ]
          },
          "metadata": {
            "tags": []
          },
          "execution_count": 2
        }
      ]
    },
    {
      "cell_type": "code",
      "metadata": {
        "colab": {
          "base_uri": "https://localhost:8080/"
        },
        "id": "s3bZ9lSs83oz",
        "outputId": "fbc95652-8f96-432f-e193-611c0d1e4fa0"
      },
      "source": [
        "df=pd.DataFrame(iris['data'])\n",
        "print(df.head())"
      ],
      "execution_count": 3,
      "outputs": [
        {
          "output_type": "stream",
          "text": [
            "     0    1    2    3\n",
            "0  5.1  3.5  1.4  0.2\n",
            "1  4.9  3.0  1.4  0.2\n",
            "2  4.7  3.2  1.3  0.2\n",
            "3  4.6  3.1  1.5  0.2\n",
            "4  5.0  3.6  1.4  0.2\n"
          ],
          "name": "stdout"
        }
      ]
    },
    {
      "cell_type": "code",
      "metadata": {
        "colab": {
          "base_uri": "https://localhost:8080/"
        },
        "id": "ibzjpkTR836a",
        "outputId": "4d1a5207-75d1-4f24-e0c2-6beb864afeac"
      },
      "source": [
        "print(iris['target_names'])"
      ],
      "execution_count": 4,
      "outputs": [
        {
          "output_type": "stream",
          "text": [
            "['setosa' 'versicolor' 'virginica']\n"
          ],
          "name": "stdout"
        }
      ]
    },
    {
      "cell_type": "code",
      "metadata": {
        "colab": {
          "base_uri": "https://localhost:8080/"
        },
        "id": "R5pmlvxM83_V",
        "outputId": "09bd1605-2938-4a43-c051-2bd37de35176"
      },
      "source": [
        "iris['feature_names']"
      ],
      "execution_count": 5,
      "outputs": [
        {
          "output_type": "execute_result",
          "data": {
            "text/plain": [
              "['sepal length (cm)',\n",
              " 'sepal width (cm)',\n",
              " 'petal length (cm)',\n",
              " 'petal width (cm)']"
            ]
          },
          "metadata": {
            "tags": []
          },
          "execution_count": 5
        }
      ]
    },
    {
      "cell_type": "code",
      "metadata": {
        "id": "Gci1S1_R84Ge"
      },
      "source": [
        "x=df\n",
        "y=iris['target']"
      ],
      "execution_count": 6,
      "outputs": []
    },
    {
      "cell_type": "code",
      "metadata": {
        "id": "JYgvtNwG84MX"
      },
      "source": [
        "#splitting data \n",
        "from sklearn.model_selection import train_test_split\n",
        "x_train,x_test,y_train,y_test=train_test_split(x,y,test_size=0.25,random_state=0)"
      ],
      "execution_count": 7,
      "outputs": []
    },
    {
      "cell_type": "code",
      "metadata": {
        "colab": {
          "base_uri": "https://localhost:8080/"
        },
        "id": "1hcFJ8wa84UA",
        "outputId": "26122d8c-cab3-4c32-9956-2edbfe155b2d"
      },
      "source": [
        "from sklearn.neighbors import KNeighborsClassifier\n",
        "knn=KNeighborsClassifier(n_neighbors=3)\n",
        "knn.fit(x_train,y_train) #feature data is xtrain and target data is ytrain\n"
      ],
      "execution_count": 8,
      "outputs": [
        {
          "output_type": "execute_result",
          "data": {
            "text/plain": [
              "KNeighborsClassifier(algorithm='auto', leaf_size=30, metric='minkowski',\n",
              "                     metric_params=None, n_jobs=None, n_neighbors=3, p=2,\n",
              "                     weights='uniform')"
            ]
          },
          "metadata": {
            "tags": []
          },
          "execution_count": 8
        }
      ]
    },
    {
      "cell_type": "code",
      "metadata": {
        "colab": {
          "base_uri": "https://localhost:8080/"
        },
        "id": "CZv_r8wn84Ya",
        "outputId": "d65251b3-a9a2-4f21-adee-7359b96a9f30"
      },
      "source": [
        "#prediction and accuracy\n",
        "x_new=np.array([[5,2.5,2,5.5]])\n",
        "prediction=knn.predict(x_new)\n",
        "prediction"
      ],
      "execution_count": 9,
      "outputs": [
        {
          "output_type": "execute_result",
          "data": {
            "text/plain": [
              "array([1])"
            ]
          },
          "metadata": {
            "tags": []
          },
          "execution_count": 9
        }
      ]
    },
    {
      "cell_type": "code",
      "metadata": {
        "colab": {
          "base_uri": "https://localhost:8080/"
        },
        "id": "Zj6RGVHb84df",
        "outputId": "dd11fe44-e586-4093-e0bf-3c5e1a7f5d29"
      },
      "source": [
        "iris['target_names'][prediction]"
      ],
      "execution_count": 10,
      "outputs": [
        {
          "output_type": "execute_result",
          "data": {
            "text/plain": [
              "array(['versicolor'], dtype='<U10')"
            ]
          },
          "metadata": {
            "tags": []
          },
          "execution_count": 10
        }
      ]
    },
    {
      "cell_type": "code",
      "metadata": {
        "colab": {
          "base_uri": "https://localhost:8080/"
        },
        "id": "LLthCFPb84ug",
        "outputId": "2dd9c955-d72d-4a5c-dae7-098ef18a4555"
      },
      "source": [
        "#accuracy using metrics\n",
        "from sklearn.metrics import confusion_matrix,accuracy_score,classification_report\n",
        "y_pred=knn.predict(x_test)\n",
        "cm=confusion_matrix(y_test,y_pred)\n",
        "print(cm)"
      ],
      "execution_count": 12,
      "outputs": [
        {
          "output_type": "stream",
          "text": [
            "[[13  0  0]\n",
            " [ 0 15  1]\n",
            " [ 0  0  9]]\n"
          ],
          "name": "stdout"
        }
      ]
    },
    {
      "cell_type": "code",
      "metadata": {
        "colab": {
          "base_uri": "https://localhost:8080/"
        },
        "id": "q0yNYZ-y843t",
        "outputId": "8f357da7-fe86-4695-b069-b80f3086e422"
      },
      "source": [
        "print(accuracy_score(y_test,y_pred))\n",
        "#to find wrong prediction 1-accuracy_score"
      ],
      "execution_count": 13,
      "outputs": [
        {
          "output_type": "stream",
          "text": [
            "0.9736842105263158\n"
          ],
          "name": "stdout"
        }
      ]
    }
  ]
}