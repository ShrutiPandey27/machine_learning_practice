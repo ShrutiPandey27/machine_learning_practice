{
  "nbformat": 4,
  "nbformat_minor": 0,
  "metadata": {
    "colab": {
      "name": "decision_tree.ipynb",
      "provenance": [],
      "authorship_tag": "ABX9TyNNF6yadX5XPyK6kaomQrhV",
      "include_colab_link": true
    },
    "kernelspec": {
      "name": "python3",
      "display_name": "Python 3"
    },
    "language_info": {
      "name": "python"
    }
  },
  "cells": [
    {
      "cell_type": "markdown",
      "metadata": {
        "id": "view-in-github",
        "colab_type": "text"
      },
      "source": [
        "<a href=\"https://colab.research.google.com/github/ShrutiPandey27/machine_learning_practice/blob/main/decision_tree.ipynb\" target=\"_parent\"><img src=\"https://colab.research.google.com/assets/colab-badge.svg\" alt=\"Open In Colab\"/></a>"
      ]
    },
    {
      "cell_type": "markdown",
      "metadata": {
        "id": "t1c93CqpCT5Q"
      },
      "source": [
        "what is decision tree\n",
        "\n",
        "\n",
        "why decision tree\n",
        "\n",
        "how does algo works\n",
        "\n",
        "practical implementation"
      ]
    },
    {
      "cell_type": "markdown",
      "metadata": {
        "id": "ZqAn1D9jCirk"
      },
      "source": [
        "can be used to solve different type of problem like regression or classification\n",
        "\n",
        "\n",
        "* mostly preferred for classification \n",
        "* quick and easy\n",
        "* similar to graph data structure \n",
        "* here nodes denotes features and predictor as yes or no\n",
        "* leaf nodes are outcomes\n"
      ]
    },
    {
      "cell_type": "markdown",
      "metadata": {
        "id": "_qC3sxQnIxKR"
      },
      "source": [
        "# how to select best feature for root\n",
        "\n"
      ]
    },
    {
      "cell_type": "markdown",
      "metadata": {
        "id": "-Txaol1jJoCm"
      },
      "source": [
        "#how decision tree works\n",
        "\n",
        "\n",
        "* select features(predictor)\n",
        "* traverse down root node\n",
        "* traverse back\n",
        "\n"
      ]
    },
    {
      "cell_type": "markdown",
      "metadata": {
        "id": "9mzKWlLVLndr"
      },
      "source": [
        "# Entropy\n",
        "\n",
        "Measure of randomness or impurity\n",
        "\n",
        "\n",
        "\n"
      ]
    },
    {
      "cell_type": "code",
      "metadata": {
        "id": "eOdv93cRBqJM"
      },
      "source": [
        ""
      ],
      "execution_count": null,
      "outputs": []
    }
  ]
}